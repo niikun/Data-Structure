{
  "nbformat": 4,
  "nbformat_minor": 0,
  "metadata": {
    "colab": {
      "provenance": [],
      "authorship_tag": "ABX9TyPskoLxYUyHPp7MoJnHnTs3",
      "include_colab_link": true
    },
    "kernelspec": {
      "name": "python3",
      "display_name": "Python 3"
    },
    "language_info": {
      "name": "python"
    }
  },
  "cells": [
    {
      "cell_type": "markdown",
      "metadata": {
        "id": "view-in-github",
        "colab_type": "text"
      },
      "source": [
        "<a href=\"https://colab.research.google.com/github/niikun/Data-Structure/blob/main/Data_structure.ipynb\" target=\"_parent\"><img src=\"https://colab.research.google.com/assets/colab-badge.svg\" alt=\"Open In Colab\"/></a>"
      ]
    },
    {
      "cell_type": "markdown",
      "source": [
        "#Data Structure"
      ],
      "metadata": {
        "id": "QGDH2vX6YTew"
      }
    },
    {
      "cell_type": "markdown",
      "source": [
        "## SingleLinkedList"
      ],
      "metadata": {
        "id": "xYlYvrg2aTjS"
      }
    },
    {
      "cell_type": "markdown",
      "source": [
        "### Node class"
      ],
      "metadata": {
        "id": "hjicnbLmaN9B"
      }
    },
    {
      "cell_type": "code",
      "execution_count": null,
      "metadata": {
        "id": "ovRJa0YKYOcm"
      },
      "outputs": [],
      "source": [
        "class Node:\n",
        "    def __init__(self, data, next=None):\n",
        "        self.data = data\n",
        "        self.next = next\n",
        "\n",
        "    def __repr__(self):\n",
        "        return f\"Node({self.data,self.next})\"\n",
        "\n",
        "    def set_next(self, next):\n",
        "        self.next = next\n",
        "\n",
        "    def get_next(self):\n",
        "        return self.next\n",
        "\n",
        "    def get_data(self):\n",
        "        return self.data\n"
      ]
    },
    {
      "cell_type": "code",
      "source": [
        "node1 = Node(data=1)\n",
        "node1"
      ],
      "metadata": {
        "colab": {
          "base_uri": "https://localhost:8080/"
        },
        "id": "wmldPwxSZZBY",
        "outputId": "c4a7cc7d-a591-442d-d2ef-13b43efeaafb"
      },
      "execution_count": null,
      "outputs": [
        {
          "output_type": "execute_result",
          "data": {
            "text/plain": [
              "Node((1, None))"
            ]
          },
          "metadata": {},
          "execution_count": 75
        }
      ]
    },
    {
      "cell_type": "code",
      "source": [
        "node2 = Node(data=2)\n",
        "node1.set_next(node2)"
      ],
      "metadata": {
        "id": "RZL-J1AgZt3A"
      },
      "execution_count": null,
      "outputs": []
    },
    {
      "cell_type": "code",
      "source": [
        "node1.get_next()"
      ],
      "metadata": {
        "colab": {
          "base_uri": "https://localhost:8080/"
        },
        "id": "VwnxO_vFZwn6",
        "outputId": "3d52ef36-924d-49a5-fb72-6408b78a539a"
      },
      "execution_count": null,
      "outputs": [
        {
          "output_type": "execute_result",
          "data": {
            "text/plain": [
              "Node((2, None))"
            ]
          },
          "metadata": {},
          "execution_count": 77
        }
      ]
    },
    {
      "cell_type": "markdown",
      "source": [
        "### SingleLinkedList"
      ],
      "metadata": {
        "id": "_MpuRuBACAYw"
      }
    },
    {
      "cell_type": "code",
      "source": [
        "class SingleLinkedList:\n",
        "    def __init__(self, head=None):\n",
        "        self.head = head\n",
        "\n",
        "\n",
        "    def push_back(self,data):\n",
        "        new_node = Node(data)\n",
        "        if self.head is None:\n",
        "            self.head = new_node\n",
        "            return\n",
        "        last_node = self.get_last_node()\n",
        "        last_node.set_next(new_node)\n",
        "\n",
        "    def pop_back(self):\n",
        "        if self.head is None:  # リストが空の場合\n",
        "            return None\n",
        "        if self.head.get_next() is None:  # リストに1つの要素しかない場合\n",
        "            value = self.head.data\n",
        "            self.head = None\n",
        "            return value\n",
        "\n",
        "        prev_node = self.head\n",
        "        current_node = self.head.get_next()\n",
        "        while current_node.get_next() is not None:\n",
        "            prev_node = current_node\n",
        "            current_node = current_node.get_next()\n",
        "        value = current_node.data\n",
        "        prev_node.set_next(None)\n",
        "        return value\n",
        "\n",
        "    def get_last_node(self):\n",
        "        if self.head is None:\n",
        "            return None\n",
        "        current_node = self.head\n",
        "        while current_node.get_next() is not None:\n",
        "            current_node = current_node.get_next()\n",
        "        return current_node\n",
        "\n",
        "    def print_list(self):\n",
        "        current_node = self.head\n",
        "        while current_node:\n",
        "            print(current_node.get_data(), end=\"->\")\n",
        "            current_node = current_node.get_next()\n",
        "        print(\"None\")\n",
        "\n",
        "    def push_front(self,data):\n",
        "        new_node = Node(data)\n",
        "        new_node.set_next(self.head)\n",
        "        self.head = new_node\n",
        "\n",
        "    def pop_front(self):\n",
        "        if self.head is None:\n",
        "            return None\n",
        "        value = self.head.get_data()\n",
        "        self.head = self.head.get_next()\n",
        "        return value\n",
        "\n",
        "    def find(self,data):\n",
        "        current_node = self.head\n",
        "        while current_node:\n",
        "            if current_node.get_data() == data:\n",
        "                return True\n",
        "\n",
        "            current_node = current_node.get_next()\n",
        "        return False\n",
        "\n",
        "    def erase(self, data):\n",
        "        current_node = self.head\n",
        "        prev_node = None\n",
        "        while current_node:\n",
        "            if current_node.get_data() == data:\n",
        "                if prev_node:\n",
        "                    prev_node.set_next(current_node.get_next())\n",
        "                else:\n",
        "                    self.head = current_node.get_next()  # 先頭ノードの場合\n",
        "                return True\n",
        "            prev_node = current_node\n",
        "            current_node = current_node.get_next()\n",
        "        return False\n"
      ],
      "metadata": {
        "id": "6QrhHtvFaIyu"
      },
      "execution_count": null,
      "outputs": []
    },
    {
      "cell_type": "code",
      "source": [
        "sll = SingleLinkedList()\n",
        "sll.push_back(1)\n",
        "sll.push_back(2)\n",
        "sll.push_back(3)"
      ],
      "metadata": {
        "id": "OipLgfpcjteK"
      },
      "execution_count": null,
      "outputs": []
    },
    {
      "cell_type": "code",
      "source": [
        "sll.print_list()"
      ],
      "metadata": {
        "colab": {
          "base_uri": "https://localhost:8080/"
        },
        "id": "R_F3a9IJkLGq",
        "outputId": "2a991d03-9848-4b3f-d5ee-888c805799e0"
      },
      "execution_count": null,
      "outputs": [
        {
          "output_type": "stream",
          "name": "stdout",
          "text": [
            "1->2->3->None\n"
          ]
        }
      ]
    },
    {
      "cell_type": "code",
      "source": [
        "sll.pop_back()"
      ],
      "metadata": {
        "colab": {
          "base_uri": "https://localhost:8080/"
        },
        "id": "Wtre-Qf0m4lD",
        "outputId": "3e29a518-631d-4e10-b872-8b0072869e6e"
      },
      "execution_count": null,
      "outputs": [
        {
          "output_type": "execute_result",
          "data": {
            "text/plain": [
              "3"
            ]
          },
          "metadata": {},
          "execution_count": 67
        }
      ]
    },
    {
      "cell_type": "code",
      "source": [
        "sll.print_list()"
      ],
      "metadata": {
        "colab": {
          "base_uri": "https://localhost:8080/"
        },
        "id": "e4lhOCVPkMO0",
        "outputId": "abffe1ac-08d6-4530-f842-24a2749755e8"
      },
      "execution_count": null,
      "outputs": [
        {
          "output_type": "stream",
          "name": "stdout",
          "text": [
            "1->2->None\n"
          ]
        }
      ]
    },
    {
      "cell_type": "code",
      "source": [
        "sll.push_front(100)\n",
        "sll.print_list()"
      ],
      "metadata": {
        "colab": {
          "base_uri": "https://localhost:8080/"
        },
        "id": "MSEmHaFekpSn",
        "outputId": "9320908d-d332-4c9b-efd2-825f70a1aa4a"
      },
      "execution_count": null,
      "outputs": [
        {
          "output_type": "stream",
          "name": "stdout",
          "text": [
            "100->1->2->None\n"
          ]
        }
      ]
    },
    {
      "cell_type": "code",
      "source": [
        "sll.push_front(200)\n",
        "sll.print_list()"
      ],
      "metadata": {
        "colab": {
          "base_uri": "https://localhost:8080/"
        },
        "id": "x6a10VNp6DQC",
        "outputId": "6e22e6a5-ed3d-4b3e-9edb-850da85f355e"
      },
      "execution_count": null,
      "outputs": [
        {
          "output_type": "stream",
          "name": "stdout",
          "text": [
            "200->100->1->2->None\n"
          ]
        }
      ]
    },
    {
      "cell_type": "code",
      "source": [
        "sll.pop_front()"
      ],
      "metadata": {
        "colab": {
          "base_uri": "https://localhost:8080/"
        },
        "id": "r8tIoLRMk3eV",
        "outputId": "fb78ea73-d9a8-41e5-c4f3-1550871bdd88"
      },
      "execution_count": null,
      "outputs": [
        {
          "output_type": "execute_result",
          "data": {
            "text/plain": [
              "200"
            ]
          },
          "metadata": {},
          "execution_count": 71
        }
      ]
    },
    {
      "cell_type": "code",
      "source": [
        "sll.find(100),sll.find(200)"
      ],
      "metadata": {
        "colab": {
          "base_uri": "https://localhost:8080/"
        },
        "id": "Ue-C3l47luGP",
        "outputId": "416daefe-7914-49fb-d3fc-26683bbc4f26"
      },
      "execution_count": null,
      "outputs": [
        {
          "output_type": "execute_result",
          "data": {
            "text/plain": [
              "(True, False)"
            ]
          },
          "metadata": {},
          "execution_count": 72
        }
      ]
    },
    {
      "cell_type": "code",
      "source": [
        "sll.print_list()"
      ],
      "metadata": {
        "colab": {
          "base_uri": "https://localhost:8080/"
        },
        "id": "qGA-o_Qrp4ff",
        "outputId": "5a9ffec0-44af-469b-bf18-2ae0fca47f34"
      },
      "execution_count": null,
      "outputs": [
        {
          "output_type": "stream",
          "name": "stdout",
          "text": [
            "100->1->2->None\n"
          ]
        }
      ]
    },
    {
      "cell_type": "code",
      "source": [
        "sll.push_front(200)"
      ],
      "metadata": {
        "id": "11kropgz9XEu"
      },
      "execution_count": null,
      "outputs": []
    },
    {
      "cell_type": "code",
      "source": [
        "sll.print_list()"
      ],
      "metadata": {
        "colab": {
          "base_uri": "https://localhost:8080/"
        },
        "id": "fPlCOQWm9aYQ",
        "outputId": "d1c1f7a2-605e-4ba0-9b5d-d9bf094588b8"
      },
      "execution_count": null,
      "outputs": [
        {
          "output_type": "stream",
          "name": "stdout",
          "text": [
            "200->100->1->2->None\n"
          ]
        }
      ]
    },
    {
      "cell_type": "code",
      "source": [
        "sll.erase(200)"
      ],
      "metadata": {
        "colab": {
          "base_uri": "https://localhost:8080/"
        },
        "id": "shL_z8iU9cHg",
        "outputId": "7ca72ba6-f2ba-4be1-88cc-95b94a0e6d95"
      },
      "execution_count": null,
      "outputs": [
        {
          "output_type": "execute_result",
          "data": {
            "text/plain": [
              "True"
            ]
          },
          "metadata": {},
          "execution_count": 76
        }
      ]
    },
    {
      "cell_type": "code",
      "source": [
        "sll.print_list()"
      ],
      "metadata": {
        "colab": {
          "base_uri": "https://localhost:8080/"
        },
        "id": "DufHsPD09efB",
        "outputId": "42ba1db5-43ad-4e38-902a-84bbeeaaf081"
      },
      "execution_count": null,
      "outputs": [
        {
          "output_type": "stream",
          "name": "stdout",
          "text": [
            "100->1->2->None\n"
          ]
        }
      ]
    },
    {
      "cell_type": "markdown",
      "source": [
        "## Double Linked List"
      ],
      "metadata": {
        "id": "P2pYkSVtCHCG"
      }
    },
    {
      "cell_type": "markdown",
      "source": [
        "### Node"
      ],
      "metadata": {
        "id": "TCyr_ziSCOBz"
      }
    },
    {
      "cell_type": "code",
      "source": [
        "class Node:\n",
        "    def __init__(self,data,prev=None,next=None):\n",
        "        self.data = data\n",
        "        self.prev = prev\n",
        "        self.next = next\n",
        "\n",
        "    def __repr__(self):\n",
        "        return f\"Node({self.data,self.prev,self.next})\"\n",
        "        # return f\"Node({self.data,self.prev,self.next})\"\n",
        "\n",
        "    def set_prev(self,prev):\n",
        "        self.prev = prev\n",
        "\n",
        "    def get_prev(self):\n",
        "        return self.prev\n",
        "\n",
        "    def set_next(self,next):\n",
        "        self.next = next\n",
        "\n",
        "    def get_next(self):\n",
        "        return self.next\n",
        "\n",
        "    def get_data(self):\n",
        "        return self.data"
      ],
      "metadata": {
        "id": "UHQJIkjqCNR3"
      },
      "execution_count": null,
      "outputs": []
    },
    {
      "cell_type": "code",
      "source": [
        "class Double_Linked_list:\n",
        "    def __init__(self,head=None,tail=None):\n",
        "        self.head = head\n",
        "        self.tail = tail\n",
        "\n",
        "    def push_back(self,data):\n",
        "        new_node = Node(data)\n",
        "        if self.tail is None: # Handle the case of an empty list\n",
        "            self.head = new_node\n",
        "            self.tail = new_node\n",
        "        else:\n",
        "            self.tail.set_next(new_node)\n",
        "            new_node.set_prev(self.tail)\n",
        "            self.tail = new_node\n",
        "\n",
        "    def print_list(self):\n",
        "        current_node = self.head\n",
        "        while current_node:\n",
        "            print(f\"Node({current_node.get_data()})\", end=\"->\")\n",
        "            current_node = current_node.get_next()\n",
        "        print(\"None\")\n",
        "\n"
      ],
      "metadata": {
        "id": "4-E7ZdHcV3U3"
      },
      "execution_count": null,
      "outputs": []
    },
    {
      "cell_type": "code",
      "source": [
        "node1 = Node(data=1)\n",
        "node1"
      ],
      "metadata": {
        "colab": {
          "base_uri": "https://localhost:8080/"
        },
        "id": "Xc6igZ2f-QHd",
        "outputId": "43bbb9c3-1213-455f-b074-dc92a9f16d1f"
      },
      "execution_count": null,
      "outputs": [
        {
          "output_type": "execute_result",
          "data": {
            "text/plain": [
              "Node((1, None, None))"
            ]
          },
          "metadata": {},
          "execution_count": 87
        }
      ]
    },
    {
      "cell_type": "code",
      "source": [
        "dll = Double_Linked_list()\n",
        "dll.push_back(1)\n",
        "dll.push_back(2)\n",
        "dll.push_back(3)"
      ],
      "metadata": {
        "id": "DM6sOJVxD2T2"
      },
      "execution_count": null,
      "outputs": []
    },
    {
      "cell_type": "code",
      "source": [
        "dll.print_list()"
      ],
      "metadata": {
        "colab": {
          "base_uri": "https://localhost:8080/"
        },
        "id": "RpPgSjt_D3Wq",
        "outputId": "86096ffc-101b-4933-a133-8af329781146"
      },
      "execution_count": null,
      "outputs": [
        {
          "output_type": "stream",
          "name": "stdout",
          "text": [
            "Node(1)->Node(2)->Node(3)->None\n"
          ]
        }
      ]
    },
    {
      "cell_type": "code",
      "source": [],
      "metadata": {
        "id": "C6t0j4hhEmiL"
      },
      "execution_count": null,
      "outputs": []
    },
    {
      "cell_type": "markdown",
      "source": [
        "## Stacks\n"
      ],
      "metadata": {
        "id": "uopYrxatMDhy"
      }
    },
    {
      "cell_type": "code",
      "source": [
        "class Node:\n",
        "    def __init__(self, data, next=None):\n",
        "        self.data = data\n",
        "        self.next = next\n",
        "\n",
        "    def __repr__(self):\n",
        "        return f\"Node({self.data}, {repr(self.next)})\"\n",
        "\n",
        "    def set_next(self, next_node):\n",
        "        self.next = next_node\n",
        "\n",
        "    def get_next(self):\n",
        "        return self.next\n",
        "\n",
        "    def get_data(self):\n",
        "        return self.data\n",
        "\n",
        "\n",
        "class Stacks:\n",
        "    def __init__(self):\n",
        "        self.head = None\n",
        "\n",
        "    def push_node(self, data):\n",
        "        new_node = Node(data)\n",
        "        new_node.set_next(self.head)\n",
        "        self.head = new_node\n",
        "\n",
        "    def pop_node(self):\n",
        "        if self.head is None:\n",
        "            return None\n",
        "        value = self.head.get_data()\n",
        "        self.head = self.head.get_next()\n",
        "        return value\n",
        "\n",
        "    def print_list(self):\n",
        "        current_node = self.head\n",
        "        while current_node:\n",
        "            print(f\"Node({current_node.get_data()})\", end=\"->\")\n",
        "            current_node = current_node.get_next()\n",
        "        print(\"None\")\n",
        "\n",
        "    def count_nodes(self):\n",
        "        count = 0\n",
        "        current_node = self.head\n",
        "        while current_node:\n",
        "            count += 1\n",
        "            current_node = current_node.get_next()\n",
        "        return count\n",
        "\n",
        "\n",
        "# Example usage:\n",
        "stack = Stacks()\n",
        "stack.push_node(10)\n",
        "stack.push_node(20)\n",
        "stack.push_node(30)\n",
        "stack.print_list()  # Output should be Node(30)->Node(20)->Node(10)->None\n",
        "print(stack.pop_node())  # Output should be 30\n",
        "stack.print_list()  # Output should be Node(20)->Node(10)->None\n"
      ],
      "metadata": {
        "colab": {
          "base_uri": "https://localhost:8080/"
        },
        "id": "iiR8rIR7MyzA",
        "outputId": "ed701b8e-5a43-4e26-a5b3-c027c3b26c02"
      },
      "execution_count": null,
      "outputs": [
        {
          "output_type": "stream",
          "name": "stdout",
          "text": [
            "Node(30)->Node(20)->Node(10)->None\n",
            "30\n",
            "Node(20)->Node(10)->None\n"
          ]
        }
      ]
    },
    {
      "cell_type": "code",
      "source": [
        "inputs = \"(1,2,3,4,5)\"\n",
        "stack = Stacks()\n",
        "for input in inputs:\n",
        "    stack.push_node(input)\n",
        "stack.print_list()"
      ],
      "metadata": {
        "colab": {
          "base_uri": "https://localhost:8080/"
        },
        "id": "VMIEH6Z_UZfO",
        "outputId": "08f720c6-54c8-4bcd-c697-58ede0fab5e1"
      },
      "execution_count": null,
      "outputs": [
        {
          "output_type": "stream",
          "name": "stdout",
          "text": [
            "Node())->Node(5)->Node(,)->Node(4)->Node(,)->Node(3)->Node(,)->Node(2)->Node(,)->Node(1)->Node(()->None\n"
          ]
        }
      ]
    },
    {
      "cell_type": "code",
      "source": [
        "for i in range(stack.count_nodes()):\n",
        "    print(stack.pop_node())"
      ],
      "metadata": {
        "colab": {
          "base_uri": "https://localhost:8080/"
        },
        "id": "1hgTRt52UjVM",
        "outputId": "e6842c35-f2fd-490f-a018-0d90228c31e5"
      },
      "execution_count": null,
      "outputs": [
        {
          "output_type": "stream",
          "name": "stdout",
          "text": [
            ")\n",
            "5\n",
            ",\n",
            "4\n",
            ",\n",
            "3\n",
            ",\n",
            "2\n",
            ",\n",
            "1\n",
            "(\n"
          ]
        }
      ]
    },
    {
      "cell_type": "code",
      "source": [
        "class Node:\n",
        "    def __init__(self,data,next=None):\n",
        "        self.data = data\n",
        "        self.next = next\n",
        "\n",
        "    def __repr__(self):\n",
        "        return f\"Node({self.data},{self.next})\"\n",
        "\n",
        "    def set_next(self,next):\n",
        "        self.next = next\n",
        "\n",
        "    def get_next(self):\n",
        "        return self.next\n",
        "\n",
        "    def get_data(self):\n",
        "        return self.data\n"
      ],
      "metadata": {
        "id": "SPxgoK8Qq8oj"
      },
      "execution_count": 2,
      "outputs": []
    },
    {
      "cell_type": "code",
      "source": [
        "class Queues:\n",
        "    def __init__(self,head=None,tail=None):\n",
        "        self.head = head\n",
        "        self.tail = tail\n",
        "\n",
        "    def push_back(self,data):\n",
        "        new_node = Node(data)\n",
        "        if self.head is None:\n",
        "            self.head = new_node\n",
        "            self.tail = new_node\n",
        "            return\n",
        "        self.tail.set_next(new_node)\n",
        "        self.tail = new_node\n",
        "    def pop_back(self):\n",
        "        if self.head is None:\n",
        "            return None\n",
        "        value = self.tail.get_data()\n",
        "        current_node = self.head\n",
        "        while current_node:\n",
        "            if current_node.get_next() == self.tail:\n",
        "                current_node.set_next(None)\n",
        "                self.tail = current_node\n",
        "\n",
        "            current_node = current_node.get_next()\n",
        "        return value\n",
        "\n",
        "    def print_list(self):\n",
        "        current_node = self.head\n",
        "        while current_node:\n",
        "            print(f\"Node({current_node.get_data()}), -> \")\n",
        "            # print(f\"Node({current_node.get_data()})\", end=\"->\")\n",
        "            current_node = current_node.get_next()\n",
        "        print(\"None\")\n"
      ],
      "metadata": {
        "id": "7J1jLF63Vjhu"
      },
      "execution_count": 16,
      "outputs": []
    },
    {
      "cell_type": "code",
      "source": [
        "queues = Queues()\n",
        "queues.push_back(1)\n",
        "queues.push_back(2)\n",
        "queues.push_back(3)\n",
        "queues.print_list()"
      ],
      "metadata": {
        "colab": {
          "base_uri": "https://localhost:8080/"
        },
        "id": "v_93hmY3sENq",
        "outputId": "5f2e162c-3371-443e-b118-c6048bae4321"
      },
      "execution_count": 17,
      "outputs": [
        {
          "output_type": "stream",
          "name": "stdout",
          "text": [
            "Node(1, -> \n",
            "Node(2, -> \n",
            "Node(3, -> \n",
            "None\n"
          ]
        }
      ]
    },
    {
      "cell_type": "code",
      "source": [
        "hello_list = [\"hello\",\"world\"]\n",
        "for i in hello_list:\n",
        "    print(i,end=\" \")"
      ],
      "metadata": {
        "colab": {
          "base_uri": "https://localhost:8080/"
        },
        "id": "Xa-GJACuwKGt",
        "outputId": "3a636eab-603e-4bfc-a60e-c0be7a4f205d"
      },
      "execution_count": 21,
      "outputs": [
        {
          "output_type": "stream",
          "name": "stdout",
          "text": [
            "hello world "
          ]
        }
      ]
    },
    {
      "cell_type": "code",
      "source": [],
      "metadata": {
        "id": "yCP_IWmGzMgY"
      },
      "execution_count": null,
      "outputs": []
    }
  ]
}