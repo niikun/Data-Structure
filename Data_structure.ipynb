{
  "nbformat": 4,
  "nbformat_minor": 0,
  "metadata": {
    "colab": {
      "provenance": [],
      "authorship_tag": "ABX9TyMnWa143oRbE3klZsKGB+G0",
      "include_colab_link": true
    },
    "kernelspec": {
      "name": "python3",
      "display_name": "Python 3"
    },
    "language_info": {
      "name": "python"
    }
  },
  "cells": [
    {
      "cell_type": "markdown",
      "metadata": {
        "id": "view-in-github",
        "colab_type": "text"
      },
      "source": [
        "<a href=\"https://colab.research.google.com/github/niikun/Data-Structure/blob/main/Data_structure.ipynb\" target=\"_parent\"><img src=\"https://colab.research.google.com/assets/colab-badge.svg\" alt=\"Open In Colab\"/></a>"
      ]
    },
    {
      "cell_type": "markdown",
      "source": [
        "#Data Structure"
      ],
      "metadata": {
        "id": "QGDH2vX6YTew"
      }
    },
    {
      "cell_type": "markdown",
      "source": [
        "## SingleLinkedList"
      ],
      "metadata": {
        "id": "xYlYvrg2aTjS"
      }
    },
    {
      "cell_type": "markdown",
      "source": [
        "### Node class"
      ],
      "metadata": {
        "id": "hjicnbLmaN9B"
      }
    },
    {
      "cell_type": "code",
      "execution_count": 3,
      "metadata": {
        "id": "ovRJa0YKYOcm"
      },
      "outputs": [],
      "source": [
        "class Node:\n",
        "    def __init__(self, data, next=None):\n",
        "        self.data = data\n",
        "        self.next = next\n",
        "\n",
        "    def __repr__(self):\n",
        "        return f\"Node({self.data,self.next})\"\n",
        "\n",
        "    def set_next(self, next):\n",
        "        self.next = next\n",
        "\n",
        "    def get_next(self):\n",
        "        return self.next\n",
        "\n",
        "    def get_data(self):\n",
        "        return self.data\n",
        ""
      ]
    },
    {
      "cell_type": "code",
      "source": [
        "node1 = Node(data=1)\n",
        "node1"
      ],
      "metadata": {
        "colab": {
          "base_uri": "https://localhost:8080/"
        },
        "id": "wmldPwxSZZBY",
        "outputId": "c4a7cc7d-a591-442d-d2ef-13b43efeaafb"
      },
      "execution_count": 75,
      "outputs": [
        {
          "output_type": "execute_result",
          "data": {
            "text/plain": [
              "Node((1, None))"
            ]
          },
          "metadata": {},
          "execution_count": 75
        }
      ]
    },
    {
      "cell_type": "code",
      "source": [
        "node2 = Node(data=2)\n",
        "node1.set_next(node2)"
      ],
      "metadata": {
        "id": "RZL-J1AgZt3A"
      },
      "execution_count": 76,
      "outputs": []
    },
    {
      "cell_type": "code",
      "source": [
        "node1.get_next()"
      ],
      "metadata": {
        "colab": {
          "base_uri": "https://localhost:8080/"
        },
        "id": "VwnxO_vFZwn6",
        "outputId": "3d52ef36-924d-49a5-fb72-6408b78a539a"
      },
      "execution_count": 77,
      "outputs": [
        {
          "output_type": "execute_result",
          "data": {
            "text/plain": [
              "Node((2, None))"
            ]
          },
          "metadata": {},
          "execution_count": 77
        }
      ]
    },
    {
      "cell_type": "markdown",
      "source": [
        "### SingleLinkedList"
      ],
      "metadata": {
        "id": "_MpuRuBACAYw"
      }
    },
    {
      "cell_type": "code",
      "source": [
        "class SingleLinkedList:\n",
        "    def __init__(self, head=None):\n",
        "        self.head = head\n",
        "\n",
        "\n",
        "    def push_back(self,data):\n",
        "        new_node = Node(data)\n",
        "        if self.head is None:\n",
        "            self.head = new_node\n",
        "            return\n",
        "        last_node = self.get_last_node()\n",
        "        last_node.set_next(new_node)\n",
        "\n",
        "    def pop_back(self):\n",
        "        if self.head is None:  # リストが空の場合\n",
        "            return None\n",
        "        if self.head.get_next() is None:  # リストに1つの要素しかない場合\n",
        "            value = self.head.data\n",
        "            self.head = None\n",
        "            return value\n",
        "\n",
        "        prev_node = self.head\n",
        "        current_node = self.head.get_next()\n",
        "        while current_node.get_next() is not None:\n",
        "            prev_node = current_node\n",
        "            current_node = current_node.get_next()\n",
        "        value = current_node.data\n",
        "        prev_node.set_next(None)\n",
        "        return value\n",
        "\n",
        "    def get_last_node(self):\n",
        "        if self.head is None:\n",
        "            return None\n",
        "        current_node = self.head\n",
        "        while current_node.get_next() is not None:\n",
        "            current_node = current_node.get_next()\n",
        "        return current_node\n",
        "\n",
        "    def print_list(self):\n",
        "        current_node = self.head\n",
        "        while current_node:\n",
        "            print(current_node.get_data(), end=\"->\")\n",
        "            current_node = current_node.get_next()\n",
        "        print(\"None\")\n",
        "\n",
        "    def push_front(self,data):\n",
        "        new_node = Node(data)\n",
        "        new_node.set_next(self.head)\n",
        "        self.head = new_node\n",
        "\n",
        "    def pop_front(self):\n",
        "        if self.head is None:\n",
        "            return None\n",
        "        value = self.head.get_data()\n",
        "        self.head = self.head.get_next()\n",
        "        return value\n",
        "\n",
        "    def find(self,data):\n",
        "        current_node = self.head\n",
        "        while current_node:\n",
        "            if current_node.get_data() == data:\n",
        "                return True\n",
        "\n",
        "            current_node = current_node.get_next()\n",
        "        return False\n",
        "\n",
        "    def erase(self, data):\n",
        "        current_node = self.head\n",
        "        prev_node = None\n",
        "        while current_node:\n",
        "            if current_node.get_data() == data:\n",
        "                if prev_node:\n",
        "                    prev_node.set_next(current_node.get_next())\n",
        "                else:\n",
        "                    self.head = current_node.get_next()  # 先頭ノードの場合\n",
        "                return True\n",
        "            prev_node = current_node\n",
        "            current_node = current_node.get_next()\n",
        "        return False\n"
      ],
      "metadata": {
        "id": "6QrhHtvFaIyu"
      },
      "execution_count": 64,
      "outputs": []
    },
    {
      "cell_type": "code",
      "source": [
        "sll = SingleLinkedList()\n",
        "sll.push_back(1)\n",
        "sll.push_back(2)\n",
        "sll.push_back(3)"
      ],
      "metadata": {
        "id": "OipLgfpcjteK"
      },
      "execution_count": 65,
      "outputs": []
    },
    {
      "cell_type": "code",
      "source": [
        "sll.print_list()"
      ],
      "metadata": {
        "colab": {
          "base_uri": "https://localhost:8080/"
        },
        "id": "R_F3a9IJkLGq",
        "outputId": "2a991d03-9848-4b3f-d5ee-888c805799e0"
      },
      "execution_count": 66,
      "outputs": [
        {
          "output_type": "stream",
          "name": "stdout",
          "text": [
            "1->2->3->None\n"
          ]
        }
      ]
    },
    {
      "cell_type": "code",
      "source": [
        "sll.pop_back()"
      ],
      "metadata": {
        "colab": {
          "base_uri": "https://localhost:8080/"
        },
        "id": "Wtre-Qf0m4lD",
        "outputId": "3e29a518-631d-4e10-b872-8b0072869e6e"
      },
      "execution_count": 67,
      "outputs": [
        {
          "output_type": "execute_result",
          "data": {
            "text/plain": [
              "3"
            ]
          },
          "metadata": {},
          "execution_count": 67
        }
      ]
    },
    {
      "cell_type": "code",
      "source": [
        "sll.print_list()"
      ],
      "metadata": {
        "colab": {
          "base_uri": "https://localhost:8080/"
        },
        "id": "e4lhOCVPkMO0",
        "outputId": "abffe1ac-08d6-4530-f842-24a2749755e8"
      },
      "execution_count": 68,
      "outputs": [
        {
          "output_type": "stream",
          "name": "stdout",
          "text": [
            "1->2->None\n"
          ]
        }
      ]
    },
    {
      "cell_type": "code",
      "source": [
        "sll.push_front(100)\n",
        "sll.print_list()"
      ],
      "metadata": {
        "colab": {
          "base_uri": "https://localhost:8080/"
        },
        "id": "MSEmHaFekpSn",
        "outputId": "9320908d-d332-4c9b-efd2-825f70a1aa4a"
      },
      "execution_count": 69,
      "outputs": [
        {
          "output_type": "stream",
          "name": "stdout",
          "text": [
            "100->1->2->None\n"
          ]
        }
      ]
    },
    {
      "cell_type": "code",
      "source": [
        "sll.push_front(200)\n",
        "sll.print_list()"
      ],
      "metadata": {
        "colab": {
          "base_uri": "https://localhost:8080/"
        },
        "id": "x6a10VNp6DQC",
        "outputId": "6e22e6a5-ed3d-4b3e-9edb-850da85f355e"
      },
      "execution_count": 70,
      "outputs": [
        {
          "output_type": "stream",
          "name": "stdout",
          "text": [
            "200->100->1->2->None\n"
          ]
        }
      ]
    },
    {
      "cell_type": "code",
      "source": [
        "sll.pop_front()"
      ],
      "metadata": {
        "colab": {
          "base_uri": "https://localhost:8080/"
        },
        "id": "r8tIoLRMk3eV",
        "outputId": "fb78ea73-d9a8-41e5-c4f3-1550871bdd88"
      },
      "execution_count": 71,
      "outputs": [
        {
          "output_type": "execute_result",
          "data": {
            "text/plain": [
              "200"
            ]
          },
          "metadata": {},
          "execution_count": 71
        }
      ]
    },
    {
      "cell_type": "code",
      "source": [
        "sll.find(100),sll.find(200)"
      ],
      "metadata": {
        "colab": {
          "base_uri": "https://localhost:8080/"
        },
        "id": "Ue-C3l47luGP",
        "outputId": "416daefe-7914-49fb-d3fc-26683bbc4f26"
      },
      "execution_count": 72,
      "outputs": [
        {
          "output_type": "execute_result",
          "data": {
            "text/plain": [
              "(True, False)"
            ]
          },
          "metadata": {},
          "execution_count": 72
        }
      ]
    },
    {
      "cell_type": "code",
      "source": [
        "sll.print_list()"
      ],
      "metadata": {
        "colab": {
          "base_uri": "https://localhost:8080/"
        },
        "id": "qGA-o_Qrp4ff",
        "outputId": "5a9ffec0-44af-469b-bf18-2ae0fca47f34"
      },
      "execution_count": 73,
      "outputs": [
        {
          "output_type": "stream",
          "name": "stdout",
          "text": [
            "100->1->2->None\n"
          ]
        }
      ]
    },
    {
      "cell_type": "code",
      "source": [
        "sll.push_front(200)"
      ],
      "metadata": {
        "id": "11kropgz9XEu"
      },
      "execution_count": 74,
      "outputs": []
    },
    {
      "cell_type": "code",
      "source": [
        "sll.print_list()"
      ],
      "metadata": {
        "colab": {
          "base_uri": "https://localhost:8080/"
        },
        "id": "fPlCOQWm9aYQ",
        "outputId": "d1c1f7a2-605e-4ba0-9b5d-d9bf094588b8"
      },
      "execution_count": 75,
      "outputs": [
        {
          "output_type": "stream",
          "name": "stdout",
          "text": [
            "200->100->1->2->None\n"
          ]
        }
      ]
    },
    {
      "cell_type": "code",
      "source": [
        "sll.erase(200)"
      ],
      "metadata": {
        "colab": {
          "base_uri": "https://localhost:8080/"
        },
        "id": "shL_z8iU9cHg",
        "outputId": "7ca72ba6-f2ba-4be1-88cc-95b94a0e6d95"
      },
      "execution_count": 76,
      "outputs": [
        {
          "output_type": "execute_result",
          "data": {
            "text/plain": [
              "True"
            ]
          },
          "metadata": {},
          "execution_count": 76
        }
      ]
    },
    {
      "cell_type": "code",
      "source": [
        "sll.print_list()"
      ],
      "metadata": {
        "colab": {
          "base_uri": "https://localhost:8080/"
        },
        "id": "DufHsPD09efB",
        "outputId": "42ba1db5-43ad-4e38-902a-84bbeeaaf081"
      },
      "execution_count": 77,
      "outputs": [
        {
          "output_type": "stream",
          "name": "stdout",
          "text": [
            "100->1->2->None\n"
          ]
        }
      ]
    },
    {
      "cell_type": "markdown",
      "source": [
        "## Double Linked List"
      ],
      "metadata": {
        "id": "P2pYkSVtCHCG"
      }
    },
    {
      "cell_type": "markdown",
      "source": [
        "### Node"
      ],
      "metadata": {
        "id": "TCyr_ziSCOBz"
      }
    },
    {
      "cell_type": "code",
      "source": [
        "class Node:\n",
        "    def __init__(self,data,prev=None,next=None):\n",
        "        self.data = data\n",
        "        self.prev = prev\n",
        "        self.next = next\n",
        "\n",
        "    def __repr__(self):\n",
        "        return f\"Node({self.data,self.prev,self.next})\"\n",
        "        # return f\"Node({self.data,self.prev,self.next})\"\n",
        "\n",
        "    def set_prev(self,prev):\n",
        "        self.prev = prev\n",
        "\n",
        "    def get_prev(self):\n",
        "        return self.prev\n",
        "\n",
        "    def set_next(self,next):\n",
        "        self.next = next\n",
        "\n",
        "    def get_next(self):\n",
        "        return self.next"
      ],
      "metadata": {
        "id": "UHQJIkjqCNR3"
      },
      "execution_count": 87,
      "outputs": []
    },
    {
      "cell_type": "code",
      "source": [
        "node1 = Node(data=1)\n",
        "node1"
      ],
      "metadata": {
        "colab": {
          "base_uri": "https://localhost:8080/"
        },
        "id": "Xc6igZ2f-QHd",
        "outputId": "e183d01c-6280-4197-8b09-94daecc78c1b"
      },
      "execution_count": 88,
      "outputs": [
        {
          "output_type": "execute_result",
          "data": {
            "text/plain": [
              "Node((1, None, None))"
            ]
          },
          "metadata": {},
          "execution_count": 88
        }
      ]
    },
    {
      "cell_type": "code",
      "source": [
        "node2 = Node(data=2,prev=1)\n",
        "node1.set_next(2)"
      ],
      "metadata": {
        "id": "DM6sOJVxD2T2"
      },
      "execution_count": 89,
      "outputs": []
    },
    {
      "cell_type": "code",
      "source": [
        "node1,node2"
      ],
      "metadata": {
        "colab": {
          "base_uri": "https://localhost:8080/"
        },
        "id": "RpPgSjt_D3Wq",
        "outputId": "0284136a-f6c6-4b9f-fa30-c736a90f7ad6"
      },
      "execution_count": 90,
      "outputs": [
        {
          "output_type": "execute_result",
          "data": {
            "text/plain": [
              "(Node((1, None, 2)), Node((2, 1, None)))"
            ]
          },
          "metadata": {},
          "execution_count": 90
        }
      ]
    },
    {
      "cell_type": "code",
      "source": [],
      "metadata": {
        "id": "C6t0j4hhEmiL"
      },
      "execution_count": null,
      "outputs": []
    }
  ]
}