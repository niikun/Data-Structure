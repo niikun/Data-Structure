{
  "nbformat": 4,
  "nbformat_minor": 0,
  "metadata": {
    "colab": {
      "provenance": [],
      "authorship_tag": "ABX9TyOAUoVGUT8nOhSfRefIYzBm",
      "include_colab_link": true
    },
    "kernelspec": {
      "name": "python3",
      "display_name": "Python 3"
    },
    "language_info": {
      "name": "python"
    }
  },
  "cells": [
    {
      "cell_type": "markdown",
      "metadata": {
        "id": "view-in-github",
        "colab_type": "text"
      },
      "source": [
        "<a href=\"https://colab.research.google.com/github/niikun/Data-Structure/blob/main/Tree.ipynb\" target=\"_parent\"><img src=\"https://colab.research.google.com/assets/colab-badge.svg\" alt=\"Open In Colab\"/></a>"
      ]
    },
    {
      "cell_type": "markdown",
      "source": [
        "# Tree\n",
        "## A tree is :\n",
        "- empty or\n",
        "- a node with:\n",
        "    - a key\n",
        "    - a list of children trees\n",
        "    - optional: parent\n"
      ],
      "metadata": {
        "id": "qliMVbE5XzI1"
      }
    },
    {
      "cell_type": "code",
      "execution_count": null,
      "metadata": {
        "id": "gfaBq-l1Xw4w"
      },
      "outputs": [],
      "source": [
        "class Tree_node:\n",
        "    def __init__(self,key, children=[],parent=None):\n",
        "        self.key = key\n",
        "        self.children = children\n",
        "        self.parent = parent\n",
        "\n",
        "    def __repr__(self):\n",
        "        return f\"Node:{self.key},{self.children}\"\n",
        "\n",
        "    def add_children(self,child_key):\n",
        "        self.children.append(child_key)\n",
        "\n",
        "    def remove_children(self,child_key):\n",
        "        if child_key in self.children:\n",
        "            self.children.remove(child_key)\n",
        "        else:\n",
        "            print(f\"{child_key} is not found.\")\n",
        "\n",
        "    def get_children(self):\n",
        "        return self.children\n",
        "\n",
        "    def get_key(self):\n",
        "        return self.key"
      ]
    },
    {
      "cell_type": "code",
      "source": [
        "tn1 = Tree_node(1)\n",
        "tn1.add_children(2)\n",
        "tn1.add_children(3)\n",
        "tn1.add_children(4)\n",
        "tn1.remove_children(2)\n",
        "print(tn1.get_children())\n",
        "print(tn1.get_key())"
      ],
      "metadata": {
        "colab": {
          "base_uri": "https://localhost:8080/"
        },
        "id": "-mEFUwVddXcr",
        "outputId": "39740ec5-4152-420e-a322-f0379f3c0a13"
      },
      "execution_count": null,
      "outputs": [
        {
          "output_type": "stream",
          "name": "stdout",
          "text": [
            "[3, 4]\n",
            "1\n"
          ]
        }
      ]
    },
    {
      "cell_type": "code",
      "source": [
        "class Tree:\n",
        "    def __init__(self,root=None):\n",
        "        self.root = root\n",
        "\n",
        "    def __repr__(self):\n",
        "        return f\"Tree:{self.root}\"\n",
        "\n",
        "    def set_root(self,key):\n",
        "        new_node = Tree_node(key)\n",
        "        self.root = new_node\n",
        "\n",
        "    def add_children(self,parent_key,child_key):\n",
        "        if self.root is None:\n",
        "            self.set_root(parent_key)\n",
        "            new_node = Tree_node(child_key)\n",
        "            self.root.add_children(child_key)\n",
        "\n",
        "        else:\n",
        "            parent_node = self.root\n",
        "            while parent_node.get_key() != parent_key:\n",
        "                parent_node = parent_node.get_children()\n",
        "            new_node = Tree_node(child_key)\n",
        "            parent_node.add_children(child_key)\n",
        "    def rm_children_ft(self,parent_key,child_key):\n",
        "        if self.root is None:\n",
        "            print(\"Tree is empty.\")\n",
        "        else:\n",
        "            parent_node = self.root\n",
        "            while parent_node.get_key() != parent_key:\n",
        "                parent_node = parent_node.get_children()\n",
        "            parent_node.remove_children(child_key)\n",
        "\n",
        "    def get_root(self):\n",
        "        return self.root"
      ],
      "metadata": {
        "id": "hw1q2DRbfOMx"
      },
      "execution_count": null,
      "outputs": []
    },
    {
      "cell_type": "code",
      "source": [
        "tree = Tree()\n",
        "tree.add_children(1,2)\n",
        "tree.add_children(1,3)\n",
        "tree.add_children(1,4)\n",
        "tree.rm_children_ft(1,2)\n",
        "print(tree.get_root())"
      ],
      "metadata": {
        "colab": {
          "base_uri": "https://localhost:8080/"
        },
        "id": "BmsdTD6He7YJ",
        "outputId": "cdbc947d-2fe6-4607-bd0b-6a3bd0d241e8"
      },
      "execution_count": null,
      "outputs": [
        {
          "output_type": "stream",
          "name": "stdout",
          "text": [
            "Node:1,[3, 4, 3, 4]\n"
          ]
        }
      ]
    },
    {
      "cell_type": "code",
      "source": [
        "tree"
      ],
      "metadata": {
        "id": "sQuZXC_kkExH",
        "colab": {
          "base_uri": "https://localhost:8080/"
        },
        "outputId": "e3a21d96-f089-46dd-cc7f-c8f649817a36"
      },
      "execution_count": null,
      "outputs": [
        {
          "output_type": "execute_result",
          "data": {
            "text/plain": [
              "Tree:Node:1,[3, 4, 3, 4]"
            ]
          },
          "metadata": {},
          "execution_count": 12
        }
      ]
    },
    {
      "cell_type": "markdown",
      "source": [
        "## A Binary tree:\n",
        "- empty or\n",
        "- a node with:\n",
        "    - key\n",
        "    - left\n",
        "    - right\n",
        "    - optional : parent"
      ],
      "metadata": {
        "id": "AYJ_gHFoZXc7"
      }
    },
    {
      "cell_type": "code",
      "source": [
        "class BinaryTreeNode:\n",
        "    def __init__(self,key,left=None,right=None,parent=None):\n",
        "        self.key = key\n",
        "        self.left = left\n",
        "        self.right = right\n",
        "        self.parent = parent\n",
        "\n",
        "    def __repr__(self):\n",
        "        return f\"Node(key={self.key},left={self.left},right={self.right})\"\n",
        "\n",
        "    def set_right(self,right):\n",
        "        self.right = right\n",
        "\n",
        "    def set_left(self,left):\n",
        "        self.left = left\n",
        "\n"
      ],
      "metadata": {
        "id": "69WVnsnKtEnO"
      },
      "execution_count": null,
      "outputs": []
    },
    {
      "cell_type": "code",
      "source": [
        "btn = BinaryTreeNode(1,2,3)\n",
        "btn"
      ],
      "metadata": {
        "colab": {
          "base_uri": "https://localhost:8080/"
        },
        "id": "JeX4yRgauCwr",
        "outputId": "ee93ea2a-939c-4af9-c350-117180275ccb"
      },
      "execution_count": null,
      "outputs": [
        {
          "output_type": "execute_result",
          "data": {
            "text/plain": [
              "Node(key=1,left=2,right=3)"
            ]
          },
          "metadata": {},
          "execution_count": 16
        }
      ]
    },
    {
      "cell_type": "markdown",
      "source": [],
      "metadata": {
        "id": "k37fQ94JZc__"
      }
    },
    {
      "cell_type": "code",
      "source": [
        "class BinaryTree:\n",
        "    def __init__(self,root=None):\n",
        "        self.root = root\n",
        "\n",
        "    def __repr__(self):\n",
        "        return f\"Tree:{self.root}\"\n",
        "\n",
        "    def set_root(self,key):\n",
        "        new_node = BinaryTreeNode(key)\n",
        "        self.root = new_node\n",
        "\n",
        "    def get_root(self):\n",
        "        return self.root\n",
        "\n",
        "    def push_left(self,parent_key,child_key):\n",
        "        if self.root is None:\n",
        "            self.set_root(parent_key)\n",
        "            new_node = BinaryTreeNode(child_key)\n",
        "            self.root.set_left(child_key)\n",
        "        new_node = BinaryTreeNode(child_key)\n",
        "        parent_node = self.root\n",
        "        while parent_node.get_key() != parent_key:\n",
        "            parent_node = parent_node.get_left()\n",
        "        parent_node.set_left(child_key)\n"
      ],
      "metadata": {
        "id": "9i6vb9Hduas-"
      },
      "execution_count": null,
      "outputs": []
    },
    {
      "cell_type": "markdown",
      "source": [
        "## Height  \n",
        "```\n",
        "if tree = nill:  \n",
        "    return 0   \n",
        "return 1 + Max(Height(tree.left),Hegiht(tree.right))\n",
        "```"
      ],
      "metadata": {
        "id": "YxllGMi9aJG4"
      }
    },
    {
      "cell_type": "code",
      "source": [
        "def height(tree):\n",
        "    if tree is None:\n",
        "        return 0\n",
        "\n",
        "    return 1 + max(height(tree.left),height(tree.right))"
      ],
      "metadata": {
        "id": "fOOjKGe-spIK"
      },
      "execution_count": null,
      "outputs": []
    },
    {
      "cell_type": "code",
      "source": [],
      "metadata": {
        "id": "O0GpTRJ8ad-5"
      },
      "execution_count": null,
      "outputs": []
    },
    {
      "cell_type": "markdown",
      "source": [
        "## Size(tree)  \n",
        "```\n",
        "if tree = nill:\n",
        "    return 0\n",
        "return 1 + Size(tree.left) + Size(tree.right)\n"
      ],
      "metadata": {
        "id": "9tZ-RVSha3AW"
      }
    },
    {
      "cell_type": "code",
      "source": [],
      "metadata": {
        "id": "eLDMdhE7a2uh"
      },
      "execution_count": null,
      "outputs": []
    },
    {
      "cell_type": "markdown",
      "source": [
        "## InOrderTraversal(tree)\n",
        "\n",
        "```\n",
        "if tree = nil:\n",
        "    return\n",
        "InOrderTraversal(tree.left)\n",
        "print(tree.key)\n",
        "InOrderTraversal(tree.right)\n",
        "\n",
        "```"
      ],
      "metadata": {
        "id": "a8nhpIqQndIe"
      }
    },
    {
      "cell_type": "code",
      "source": [
        "class BinaryTreeNode:\n",
        "    def __init__(self, key, left=None, right=None, parent=None):\n",
        "        self.key = key\n",
        "        self.left = left\n",
        "        self.right = right\n",
        "        self.parent = parent\n",
        "\n",
        "    def __repr__(self):\n",
        "        return f\"Node(key={self.key}, left={self.left}, right={self.right}, parent={self.parent.key if self.parent else None})\"\n",
        "\n",
        "    def set_right(self, right):\n",
        "        self.right = right\n",
        "        if right:\n",
        "            right.parent = self\n",
        "\n",
        "    def set_left(self, left):\n",
        "        self.left = left\n",
        "        if left:\n",
        "            left.parent = self\n",
        "\n",
        "    def get_key(self):\n",
        "        return self.key\n",
        "\n",
        "\n",
        "class BinaryTree:\n",
        "    def __init__(self, root=None):\n",
        "        self.root = root\n",
        "\n",
        "    def __repr__(self):\n",
        "        return f\"Tree: {self.root}\"\n",
        "\n",
        "    def set_root(self, key):\n",
        "        new_node = BinaryTreeNode(key)\n",
        "        self.root = new_node\n",
        "\n",
        "    def get_root(self):\n",
        "        return self.root\n",
        "\n",
        "    def find(self, key, node=None):\n",
        "        if node is None:\n",
        "            node = self.root\n",
        "        if node is None or node.get_key() == key:\n",
        "            return node\n",
        "        left_result = self.find(key, node.left)\n",
        "        return left_result if left_result else self.find(key, node.right)\n",
        "\n",
        "    def push_left(self, parent_key, child_key):\n",
        "        parent_node = self.find(parent_key)\n",
        "        if parent_node is None:\n",
        "            raise ValueError(f\"Parent key {parent_key} not found in the tree.\")\n",
        "        new_node = BinaryTreeNode(child_key)\n",
        "        parent_node.set_left(new_node)\n",
        "\n",
        "    def push_right(self, parent_key, child_key):\n",
        "        parent_node = self.find(parent_key)\n",
        "        if parent_node is None:\n",
        "            raise ValueError(f\"Parent key {parent_key} not found in the tree.\")\n",
        "        new_node = BinaryTreeNode(child_key)\n",
        "        parent_node.set_right(new_node)\n",
        "\n",
        "    def height(self, node=None):\n",
        "        if node is None:\n",
        "            node = self.root\n",
        "        if node is None:\n",
        "            return 0\n",
        "        return 1 + max(self.height(node.left), self.height(node.right))\n",
        "\n",
        "    def size(self, node=None):\n",
        "        if node is None:\n",
        "            node = self.root\n",
        "        if node is None:\n",
        "            return 0\n",
        "        return 1 + self.size(node.left) + self.size(node.right)\n"
      ],
      "metadata": {
        "id": "f9WviuUVSy1R"
      },
      "execution_count": 3,
      "outputs": []
    },
    {
      "cell_type": "markdown",
      "source": [
        "## Binary Heap"
      ],
      "metadata": {
        "id": "HGmkiYkkWp2f"
      }
    },
    {
      "cell_type": "code",
      "source": [
        "import numpy as np\n",
        "class MinHeap:\n",
        "    def __init__(self):\n",
        "        self.heap = []\n",
        "\n",
        "    def __repr__(self):\n",
        "        return str(self.heap)\n",
        "\n",
        "    def parent(self, index):\n",
        "        return (index - 1) // 2\n",
        "\n",
        "    def left_child(self, index):\n",
        "        return 2 * index + 1\n",
        "\n",
        "    def right_child(self, index):\n",
        "        return 2 * index + 2\n",
        "\n",
        "    def insert(self, key):\n",
        "        self.heap.append(key)\n",
        "        self.heapify_up(len(self.heap) - 1)\n",
        "\n",
        "    def heapify_up(self, index):\n",
        "        while index > 0 and self.heap[self.parent(index)] > self.heap[index]:\n",
        "            self.heap[self.parent(index)], self.heap[index] = self.heap[index], self.heap[self.parent(index)]\n",
        "            index = self.parent(index)\n",
        "\n",
        "    def extract_min(self):\n",
        "        if not self.heap:\n",
        "            return None\n",
        "        if len(self.heap) == 1:\n",
        "            return self.heap.pop()\n",
        "        root = self.heap[0]\n",
        "        self.heap[0] = self.heap.pop()\n",
        "        self.heapify_down(0)\n",
        "        return root\n",
        "\n",
        "    def heapify_down(self, index):\n",
        "        smallest = index\n",
        "        left = self.left_child(index)\n",
        "        right = self.right_child(index)\n",
        "\n",
        "        if left < len(self.heap) and self.heap[left] < self.heap[smallest]:\n",
        "            smallest = left\n",
        "        if right < len(self.heap) and self.heap[right] < self.heap[smallest]:\n",
        "            smallest = right\n",
        "        if smallest != index:\n",
        "            self.heap[smallest], self.heap[index] = self.heap[index], self.heap[smallest]\n",
        "            self.heapify_down(smallest)\n",
        "\n",
        "    def height(self):\n",
        "        return int(np.log2(len(self.heap)))\n",
        "\n",
        "    def update(self, index, key):\n",
        "        self.heap[index] = key\n",
        "        if index > 0 and self.heap[self.parent(index)] > self.heap[index]:\n",
        "            self.heapify_up(index)\n",
        "        elif index < len(self.heap) and self.heap[self.parent(index)] < self.heap[index]:\n",
        "            self.heapify_down(index)\n",
        "\n",
        ""
      ],
      "metadata": {
        "id": "Ausfc4SeWpi5"
      },
      "execution_count": 30,
      "outputs": []
    },
    {
      "cell_type": "code",
      "source": [
        "heap = MinHeap()\n",
        "heap.insert(3)\n",
        "heap.insert(1)\n",
        "heap.insert(6)\n",
        "heap.insert(5)\n",
        "heap.insert(2)\n",
        "heap.insert(4)\n",
        "heap.insert(2)\n",
        "heap.insert(4)\n",
        "print(heap)\n",
        "print(heap.height())"
      ],
      "metadata": {
        "colab": {
          "base_uri": "https://localhost:8080/"
        },
        "id": "dr57gVmHS4p0",
        "outputId": "a36381fe-f9b1-4067-ade6-5bdb0025e971"
      },
      "execution_count": 35,
      "outputs": [
        {
          "output_type": "stream",
          "name": "stdout",
          "text": [
            "[1, 2, 2, 4, 3, 6, 4, 5]\n",
            "3\n"
          ]
        }
      ]
    },
    {
      "cell_type": "code",
      "source": [
        "print(heap.extract_min())  # 出力: 1\n",
        "print(heap)\n",
        "print(heap.height())"
      ],
      "metadata": {
        "colab": {
          "base_uri": "https://localhost:8080/"
        },
        "id": "pVeZQTEKaz_1",
        "outputId": "bcbea713-3198-4e5d-dc03-6d05b8c0c7ce"
      },
      "execution_count": 36,
      "outputs": [
        {
          "output_type": "stream",
          "name": "stdout",
          "text": [
            "1\n",
            "[2, 3, 2, 4, 5, 6, 4]\n",
            "2\n"
          ]
        }
      ]
    },
    {
      "cell_type": "code",
      "source": [
        "print(heap.extract_min())  # 出力: 2\n",
        "print(heap)\n",
        "print(heap.height())"
      ],
      "metadata": {
        "colab": {
          "base_uri": "https://localhost:8080/"
        },
        "id": "Z0AJRAh2a10j",
        "outputId": "a8149acb-0c17-4e0c-a3a4-31aa37ae4694"
      },
      "execution_count": 37,
      "outputs": [
        {
          "output_type": "stream",
          "name": "stdout",
          "text": [
            "2\n",
            "[2, 3, 4, 4, 5, 6]\n",
            "2\n"
          ]
        }
      ]
    },
    {
      "cell_type": "code",
      "source": [
        "heap.insert(1)\n",
        "print(heap)\n",
        "print(heap.height())"
      ],
      "metadata": {
        "colab": {
          "base_uri": "https://localhost:8080/"
        },
        "id": "_5OGmWWCf6GG",
        "outputId": "04e2d9a4-aaa2-46ef-e2ba-68dbabb62e89"
      },
      "execution_count": 38,
      "outputs": [
        {
          "output_type": "stream",
          "name": "stdout",
          "text": [
            "[1, 3, 2, 4, 5, 6, 4]\n",
            "2\n"
          ]
        }
      ]
    },
    {
      "cell_type": "code",
      "source": [
        "heap.insert(5)\n",
        "print(heap)\n",
        "print(heap.height())"
      ],
      "metadata": {
        "colab": {
          "base_uri": "https://localhost:8080/"
        },
        "id": "8wBRFdVugFYs",
        "outputId": "58556140-2d37-4e95-9fd2-3bad073e337d"
      },
      "execution_count": 39,
      "outputs": [
        {
          "output_type": "stream",
          "name": "stdout",
          "text": [
            "[1, 3, 2, 4, 5, 6, 4, 5]\n",
            "3\n"
          ]
        }
      ]
    },
    {
      "cell_type": "code",
      "source": [
        "heap.insert(5)\n",
        "print(heap)\n",
        "print(heap.height())"
      ],
      "metadata": {
        "colab": {
          "base_uri": "https://localhost:8080/"
        },
        "id": "98zAn2clgKs2",
        "outputId": "04e7a383-28ae-42b1-bfff-d44cbcc83c4c"
      },
      "execution_count": 40,
      "outputs": [
        {
          "output_type": "stream",
          "name": "stdout",
          "text": [
            "[1, 3, 2, 4, 5, 6, 4, 5, 5]\n",
            "3\n"
          ]
        }
      ]
    },
    {
      "cell_type": "code",
      "source": [
        "heap.insert(5)\n",
        "print(heap)\n",
        "print(heap.height())"
      ],
      "metadata": {
        "colab": {
          "base_uri": "https://localhost:8080/"
        },
        "id": "6FQu0Wu_gQrR",
        "outputId": "542ee16a-8179-4fa7-e94a-3250182463e0"
      },
      "execution_count": 41,
      "outputs": [
        {
          "output_type": "stream",
          "name": "stdout",
          "text": [
            "[1, 3, 2, 4, 5, 6, 4, 5, 5, 5]\n",
            "3\n"
          ]
        }
      ]
    },
    {
      "cell_type": "code",
      "source": [
        "heap.insert(5)\n",
        "print(heap)\n",
        "print(heap.height())"
      ],
      "metadata": {
        "colab": {
          "base_uri": "https://localhost:8080/"
        },
        "id": "q9y_hXafgVIk",
        "outputId": "2897d493-bfd5-4048-8df2-68f7ae23020f"
      },
      "execution_count": 42,
      "outputs": [
        {
          "output_type": "stream",
          "name": "stdout",
          "text": [
            "[1, 3, 2, 4, 5, 6, 4, 5, 5, 5, 5]\n",
            "3\n"
          ]
        }
      ]
    },
    {
      "cell_type": "code",
      "source": [
        "heap.insert(5)\n",
        "print(heap)\n",
        "print(heap.height())"
      ],
      "metadata": {
        "colab": {
          "base_uri": "https://localhost:8080/"
        },
        "id": "hj_PZZHkjZ-p",
        "outputId": "fb6b2d45-56bc-42a8-892c-b48bfe595033"
      },
      "execution_count": 43,
      "outputs": [
        {
          "output_type": "stream",
          "name": "stdout",
          "text": [
            "[1, 3, 2, 4, 5, 5, 4, 5, 5, 5, 5, 6]\n",
            "3\n"
          ]
        }
      ]
    },
    {
      "cell_type": "code",
      "source": [
        "heap.insert(5)\n",
        "print(heap)\n",
        "print(heap.height())"
      ],
      "metadata": {
        "colab": {
          "base_uri": "https://localhost:8080/"
        },
        "id": "bTtnGQkBja89",
        "outputId": "70d6cfb3-7cba-47e9-80a2-c3f17b7483dc"
      },
      "execution_count": 44,
      "outputs": [
        {
          "output_type": "stream",
          "name": "stdout",
          "text": [
            "[1, 3, 2, 4, 5, 5, 4, 5, 5, 5, 5, 6, 5]\n",
            "3\n"
          ]
        }
      ]
    },
    {
      "cell_type": "code",
      "source": [
        "heap.insert(5)\n",
        "print(heap)\n",
        "print(heap.height())"
      ],
      "metadata": {
        "colab": {
          "base_uri": "https://localhost:8080/"
        },
        "id": "GkIpbXzRjbqv",
        "outputId": "3255cfac-c9cd-47d4-bd0e-b5abd8607033"
      },
      "execution_count": 45,
      "outputs": [
        {
          "output_type": "stream",
          "name": "stdout",
          "text": [
            "[1, 3, 2, 4, 5, 5, 4, 5, 5, 5, 5, 6, 5, 5]\n",
            "3\n"
          ]
        }
      ]
    },
    {
      "cell_type": "code",
      "source": [
        "heap.insert(5)\n",
        "print(heap)\n",
        "print(heap.height())"
      ],
      "metadata": {
        "colab": {
          "base_uri": "https://localhost:8080/"
        },
        "id": "i1OKGWtrjcXw",
        "outputId": "a7fe1e3e-ccb2-4b59-fdf7-38af431c30a3"
      },
      "execution_count": 46,
      "outputs": [
        {
          "output_type": "stream",
          "name": "stdout",
          "text": [
            "[1, 3, 2, 4, 5, 5, 4, 5, 5, 5, 5, 6, 5, 5, 5]\n",
            "3\n"
          ]
        }
      ]
    },
    {
      "cell_type": "code",
      "source": [
        "heap.insert(5)\n",
        "print(heap)\n",
        "print(heap.height())"
      ],
      "metadata": {
        "colab": {
          "base_uri": "https://localhost:8080/"
        },
        "id": "IXHACT9FjdJp",
        "outputId": "3906a404-b7db-46cc-99b4-89d937ff06cf"
      },
      "execution_count": 47,
      "outputs": [
        {
          "output_type": "stream",
          "name": "stdout",
          "text": [
            "[1, 3, 2, 4, 5, 5, 4, 5, 5, 5, 5, 6, 5, 5, 5, 5]\n",
            "4\n"
          ]
        }
      ]
    },
    {
      "cell_type": "code",
      "source": [],
      "metadata": {
        "id": "AslskzMfjd4s"
      },
      "execution_count": null,
      "outputs": []
    }
  ]
}