{
  "nbformat": 4,
  "nbformat_minor": 0,
  "metadata": {
    "colab": {
      "provenance": [],
      "authorship_tag": "ABX9TyPo7SDTmoL6YVE0eZ8rNpTx",
      "include_colab_link": true
    },
    "kernelspec": {
      "name": "python3",
      "display_name": "Python 3"
    },
    "language_info": {
      "name": "python"
    }
  },
  "cells": [
    {
      "cell_type": "markdown",
      "metadata": {
        "id": "view-in-github",
        "colab_type": "text"
      },
      "source": [
        "<a href=\"https://colab.research.google.com/github/niikun/Data-Structure/blob/main/Disjoint_Sets.ipynb\" target=\"_parent\"><img src=\"https://colab.research.google.com/assets/colab-badge.svg\" alt=\"Open In Colab\"/></a>"
      ]
    },
    {
      "cell_type": "markdown",
      "source": [],
      "metadata": {
        "id": "Gy6tI8OdS3xY"
      }
    },
    {
      "cell_type": "markdown",
      "source": [
        "# Disjoint Sets"
      ],
      "metadata": {
        "id": "39XQIbo2S5G7"
      }
    },
    {
      "cell_type": "markdown",
      "source": [
        "Disjoint Setsは、集合が互いに共通する要素を持たない場合、その集合同士は互いに素である（Disjoint）と言います。  \n",
        "例えば、次の2つの集合を考えます。\n",
        "\n",
        "- 集合 𝐴={1,2,3}\n",
        "- 集合 𝐵={4,5,6}  \n",
        "\n",
        "この場合、集合\n",
        "𝐴 と\n",
        "𝐵 は一切の共通要素を持たないため、これらの集合は互いに素です。\n",
        "\n"
      ],
      "metadata": {
        "id": "2MFH_odITBMB"
      }
    },
    {
      "cell_type": "markdown",
      "source": [
        "## Union-Findデータ構造  \n",
        "Disjoint Setsを効率的に扱うためのデータ構造として、Union-Find（またはDisjoint Set Union, DSU）というものがあります。Union-Findは、「友達グループ」を管理する方法です。友達になるとグループができ、どの子どもがどのグループにいるかを確認することができます。そして、さらに友達を増やしてグループを大きくすることもできます。この方法を使うと、大きなグループができても誰がどのグループにいるかを簡単に調べることができます。\n",
        "\n",
        "- Union: 2つの集合を一つに統合する。  \n",
        "- Find: ある要素がどの集合に属しているかを見つける。\n",
        "Union-Findの具体的な操作\n",
        "- Find:\n",
        "各要素はそれぞれ代表（親）を持ち、同じ集合の要素は同じ代表を共有します。この代表を見つける操作がFindです。\n",
        "\n",
        "- Union:\n",
        "2つの要素が属する集合を一つにまとめる操作です。通常は、それぞれの集合の代表を比較し、片方を他方の代表に変更することで実現されます。  \n",
        "\n",
        "パス圧縮とランク付け\n",
        "Union-Findの効率を向上させるために、次の2つの技法が使われます。\n",
        "\n",
        "- パス圧縮（Path Compression）:  \n",
        "Find操作を行う際に、探索した全てのノードを直接その代表に繋ぎ直すことで、後のFind操作を高速化します。\n",
        "\n",
        "- ランク付け（Union by Rank）:  \n",
        "Union操作を行う際に、集合の「高さ」を考慮して、低い方の集合を高い方に結合します。これにより、全体の木の高さが抑えられ、Find操作が高速化されます。"
      ],
      "metadata": {
        "id": "Iemlr-t0YhWk"
      }
    },
    {
      "cell_type": "code",
      "source": [
        "class UnionFind:\n",
        "    def __init__(self, size):\n",
        "        self.parent = list(range(size))\n",
        "        self.rank = [0] * size\n",
        "\n",
        "    def __repr__(self):\n",
        "        return f\"{self.parent}, {self.rank}\"\n",
        "\n",
        "    def Find(self,p):\n",
        "        if self.parent[p] !=p:\n",
        "            self.parent[p] = self.Find(self.parent[p])\n",
        "        return self.parent[p]\n",
        "\n",
        "    def Union(self,p,q):\n",
        "        rootP = self.Find(p)\n",
        "        rootQ = self.Find(q)\n",
        "        if rootP != rootQ:\n",
        "            if self.rank[rootP] > self.rank[rootQ]:\n",
        "                self.parent[rootQ] = rootP\n",
        "            elif self.rank[rootP] < self.rank[rootQ]:\n",
        "                self.parent[rootP] = rootQ\n",
        "            else:\n",
        "                self.parent[rootQ] =rootP\n",
        "                self.rank[rootP] += 1"
      ],
      "metadata": {
        "id": "sZ7-l1GRTA7f"
      },
      "execution_count": null,
      "outputs": []
    },
    {
      "cell_type": "markdown",
      "source": [
        "```\n",
        "def __init__(self, size):\n",
        "    self.parent = list(range(size))\n",
        "    self.rank = [0] * size\n",
        "\n",
        "```  \n",
        "__init__関数: Union-Findの初期設定を行います。  \n",
        "\n",
        "- self.parentは、各子どもがどのグループに属しているかを示すリストです。最初は全員が一人ぼっち（自分自身を親とする）です。  \n",
        "- self.rankは、グループの「高さ」を示します。最初は全員が一人ぼっちなので、全て0です。"
      ],
      "metadata": {
        "id": "Zk-D2T-AY-ZH"
      }
    },
    {
      "cell_type": "markdown",
      "source": [
        "```\n",
        "def find(self, p):\n",
        "    if self.parent[p] != p:\n",
        "        self.parent[p] = self.find(self.parent[p])\n",
        "    return self.parent[p]\n",
        "\n",
        "```\n",
        "find関数: ある子どもがどのグループに属しているかを確認します。  \n",
        "- if self.parent[p] != pの部分では、子どもpが自分自身を親としていない場合（つまり、グループに属している場合）に、その親を再帰的に探します。  \n",
        "- self.parent[p] = self.find(self.parent[p])では、見つけた親を直接設定してパス圧縮を行います。  \n",
        "- 最終的に、子どもpのグループの親を返します。"
      ],
      "metadata": {
        "id": "QDGrCHhSZa8e"
      }
    },
    {
      "cell_type": "markdown",
      "source": [
        "```\n",
        "def union(self, p, q):\n",
        "    rootP = self.find(p)\n",
        "    rootQ = self.find(q)\n",
        "    if rootP != rootQ:\n",
        "        if self.rank[rootP] > self.rank[rootQ]:\n",
        "            self.parent[rootQ] = rootP\n",
        "        elif self.rank[rootP] < self.rank[rootQ]:\n",
        "            self.parent[rootP] = rootQ\n",
        "        else:\n",
        "            self.parent[rootQ] = rootP\n",
        "            self.rank[rootP] += 1\n",
        "```\n",
        "union関数: 2つの子どもpとqのグループを統合します。  \n",
        "- rootP = self.find(p)とrootQ = self.find(q)で、それぞれのグループの親を見つけます。  \n",
        "- if rootP != rootQでは、pとqが異なるグループに属している場合に統合を行います。  \n",
        "- if self.rank[rootP] > self.rank[rootQ]では、高さが高い方に低い方のグループを結合します。  \n",
        "- elif self.rank[rootP] < self.rank[rootQ]では逆の操作を行います。  \n",
        "- elseでは、両方の高さが同じ場合に一方を他方に結合し、結合した側の高さを1増やします。"
      ],
      "metadata": {
        "id": "P_LuLK-CbgR-"
      }
    },
    {
      "cell_type": "code",
      "execution_count": null,
      "metadata": {
        "colab": {
          "base_uri": "https://localhost:8080/"
        },
        "id": "gj1xqDtFS0Lb",
        "outputId": "23055408-ddfe-4ca8-d240-54af6e5f4e49"
      },
      "outputs": [
        {
          "output_type": "execute_result",
          "data": {
            "text/plain": [
              "[0, 1, 2, 3, 4, 5, 6, 7, 8, 9], [0, 0, 0, 0, 0, 0, 0, 0, 0, 0]"
            ]
          },
          "metadata": {},
          "execution_count": 10
        }
      ],
      "source": [
        "uf = UnionFind(10)\n",
        "uf"
      ]
    },
    {
      "cell_type": "code",
      "source": [
        "uf.union(1,2)\n",
        "uf"
      ],
      "metadata": {
        "colab": {
          "base_uri": "https://localhost:8080/"
        },
        "id": "_b7OiC0tUD-n",
        "outputId": "e635adc8-ee88-45d8-a7e8-8310a9900fb6"
      },
      "execution_count": null,
      "outputs": [
        {
          "output_type": "execute_result",
          "data": {
            "text/plain": [
              "[0, 1, 1, 3, 4, 5, 6, 7, 8, 9], [0, 1, 0, 0, 0, 0, 0, 0, 0, 0]"
            ]
          },
          "metadata": {},
          "execution_count": 11
        }
      ]
    },
    {
      "cell_type": "code",
      "source": [
        "uf.union(3, 4)\n",
        "uf"
      ],
      "metadata": {
        "colab": {
          "base_uri": "https://localhost:8080/"
        },
        "id": "XuY7G3x5XRuF",
        "outputId": "9d0970fb-db6e-415e-ba92-aaa63f266de0"
      },
      "execution_count": null,
      "outputs": [
        {
          "output_type": "execute_result",
          "data": {
            "text/plain": [
              "[0, 1, 1, 3, 3, 5, 6, 7, 8, 9], [0, 1, 0, 1, 0, 0, 0, 0, 0, 0]"
            ]
          },
          "metadata": {},
          "execution_count": 12
        }
      ]
    },
    {
      "cell_type": "code",
      "source": [
        "uf.union(1, 4)\n",
        "uf"
      ],
      "metadata": {
        "colab": {
          "base_uri": "https://localhost:8080/"
        },
        "id": "tAYh0cL_Xct9",
        "outputId": "6300d25d-5fe6-40e8-bf4f-70fdf1c456e2"
      },
      "execution_count": null,
      "outputs": [
        {
          "output_type": "execute_result",
          "data": {
            "text/plain": [
              "[0, 1, 1, 1, 3, 5, 6, 7, 8, 9], [0, 2, 0, 1, 0, 0, 0, 0, 0, 0]"
            ]
          },
          "metadata": {},
          "execution_count": 13
        }
      ]
    },
    {
      "cell_type": "code",
      "source": [
        "uf.find(4)\n",
        "uf"
      ],
      "metadata": {
        "colab": {
          "base_uri": "https://localhost:8080/"
        },
        "id": "sdDbXU97ufjJ",
        "outputId": "7eaf1ebb-e34b-4661-ed27-9353f98a7a81"
      },
      "execution_count": null,
      "outputs": [
        {
          "output_type": "execute_result",
          "data": {
            "text/plain": [
              "[0, 1, 1, 1, 1, 5, 6, 7, 8, 9], [0, 2, 0, 1, 0, 0, 0, 0, 0, 0]"
            ]
          },
          "metadata": {},
          "execution_count": 14
        }
      ]
    },
    {
      "cell_type": "markdown",
      "source": [
        "Union-Findの操作では、パス圧縮によって効率的に親を更新します。union(1, 4)の操作時には、直接的にすべての親を更新しませんが、次回のfind操作でパス圧縮が適用され、すべての親が直接更新されます。そのため、最初のunion"
      ],
      "metadata": {
        "id": "3LnmkXrRu6tA"
      }
    },
    {
      "cell_type": "markdown",
      "source": [
        "## Path Compression(パス圧縮）  \n",
        "Path Compression（パス圧縮）は、友達グループの親を探す時に、経由する全ての子どもを直接親に繋ぎ直すことで、次回以降の検索を高速化する方法です。これにより、友達グループの管理がもっと早く、効率的になります。"
      ],
      "metadata": {
        "id": "2TqrvBbJquqd"
      }
    },
    {
      "cell_type": "code",
      "source": [
        "uf = UnionFind(13)\n",
        "uf"
      ],
      "metadata": {
        "colab": {
          "base_uri": "https://localhost:8080/"
        },
        "id": "Vk-LpYkKtKiV",
        "outputId": "8b05113a-813a-43a5-f37b-3c8247958db3"
      },
      "execution_count": null,
      "outputs": [
        {
          "output_type": "execute_result",
          "data": {
            "text/plain": [
              "[0, 1, 2, 3, 4, 5, 6, 7, 8, 9, 10, 11, 12], [0, 0, 0, 0, 0, 0, 0, 0, 0, 0, 0, 0, 0]"
            ]
          },
          "metadata": {},
          "execution_count": 39
        }
      ]
    },
    {
      "cell_type": "code",
      "source": [
        "uf.Union(2, 10)\n",
        "uf.Union(7, 5)\n",
        "uf.Union(6, 1)\n",
        "uf.Union(3, 4)\n",
        "uf.Union(5, 11)\n",
        "uf.Union(7, 8)\n",
        "uf.Union(7, 3)\n",
        "uf.Union(12, 2)\n",
        "uf.Union(9, 6)"
      ],
      "metadata": {
        "id": "N4uB-IwB19Fe"
      },
      "execution_count": null,
      "outputs": []
    },
    {
      "cell_type": "code",
      "source": [
        "uf"
      ],
      "metadata": {
        "id": "RF8xol-089oC",
        "outputId": "5830e3c8-4b65-4740-ab3d-3c79f5bdc487",
        "colab": {
          "base_uri": "https://localhost:8080/"
        }
      },
      "execution_count": null,
      "outputs": [
        {
          "output_type": "execute_result",
          "data": {
            "text/plain": [
              "[0, 6, 2, 7, 3, 7, 6, 7, 7, 6, 2, 7, 2], [0, 0, 1, 1, 0, 0, 1, 2, 0, 0, 0, 0, 0]"
            ]
          },
          "metadata": {},
          "execution_count": 41
        }
      ]
    },
    {
      "cell_type": "code",
      "source": [
        "uf = UnionFind(4)\n",
        "uf"
      ],
      "metadata": {
        "colab": {
          "base_uri": "https://localhost:8080/"
        },
        "id": "lEQEU-bx6ukN",
        "outputId": "fb531387-de26-4e0b-bff3-9c43849dc244"
      },
      "execution_count": null,
      "outputs": [
        {
          "output_type": "execute_result",
          "data": {
            "text/plain": [
              "[0, 1, 2, 3], [0, 0, 0, 0]"
            ]
          },
          "metadata": {},
          "execution_count": 34
        }
      ]
    },
    {
      "cell_type": "code",
      "source": [
        "for i in range(1,3):\n",
        "    uf.Union(i,i+1)\n",
        "uf\n"
      ],
      "metadata": {
        "colab": {
          "base_uri": "https://localhost:8080/"
        },
        "id": "dbz-chje2VUD",
        "outputId": "dc6fda96-a892-4c91-bd6b-4c49f01a5662"
      },
      "execution_count": null,
      "outputs": [
        {
          "output_type": "execute_result",
          "data": {
            "text/plain": [
              "[0, 0, 0, 0], [1, 0, 0, 0]"
            ]
          },
          "metadata": {},
          "execution_count": 36
        }
      ]
    },
    {
      "cell_type": "code",
      "source": [
        "def MakeSet(n):\n",
        "    parent = list(range(n))\n",
        "    rank = [0] * n\n",
        "    return parent, rank\n",
        "\n",
        "def Find(parent, x):\n",
        "    if parent[x] != x:\n",
        "        parent[x] = Find(parent, parent[x])\n",
        "    return parent[x]\n",
        "def Union(parent, rank, x, y):\n",
        "    rootX = Find(parent, x)\n",
        "    rootY = Find(parent, y)\n",
        "    if rootX != rootY:\n",
        "        if rank[rootX] > rank[rootY]:\n",
        "            parent[rootY] = rootX\n",
        "        else:\n",
        "            parent[rootX] = rootY\n",
        "            if rank[rootX] == rank[rootY]:\n",
        "                rank[rootY] += 1"
      ],
      "metadata": {
        "id": "9bNPtCee6npi"
      },
      "execution_count": null,
      "outputs": []
    },
    {
      "cell_type": "code",
      "source": [
        "for i in range(1,12):\n",
        "  MakeSet(i)\n",
        "Union(2, 10)\n",
        "Union(7, 5)\n",
        "Union(6, 1)\n",
        "Union(3, 4)\n",
        "Union(5, 11)\n",
        "Union(7, 8)\n",
        "Union(7, 3)\n",
        "Union(12, 2)\n",
        "Union(9, 6)"
      ],
      "metadata": {
        "colab": {
          "base_uri": "https://localhost:8080/",
          "height": 222
        },
        "id": "ogOF53qc7pYc",
        "outputId": "7f3e38e0-edd7-4f98-e1df-686677cfeb04"
      },
      "execution_count": null,
      "outputs": [
        {
          "output_type": "error",
          "ename": "TypeError",
          "evalue": "Union() missing 2 required positional arguments: 'x' and 'y'",
          "traceback": [
            "\u001b[0;31m---------------------------------------------------------------------------\u001b[0m",
            "\u001b[0;31mTypeError\u001b[0m                                 Traceback (most recent call last)",
            "\u001b[0;32m<ipython-input-38-a4d8acd01ec2>\u001b[0m in \u001b[0;36m<cell line: 3>\u001b[0;34m()\u001b[0m\n\u001b[1;32m      1\u001b[0m \u001b[0;32mfor\u001b[0m \u001b[0mi\u001b[0m \u001b[0;32min\u001b[0m \u001b[0mrange\u001b[0m\u001b[0;34m(\u001b[0m\u001b[0;36m1\u001b[0m\u001b[0;34m,\u001b[0m\u001b[0;36m12\u001b[0m\u001b[0;34m)\u001b[0m\u001b[0;34m:\u001b[0m\u001b[0;34m\u001b[0m\u001b[0;34m\u001b[0m\u001b[0m\n\u001b[1;32m      2\u001b[0m   \u001b[0mMakeSet\u001b[0m\u001b[0;34m(\u001b[0m\u001b[0mi\u001b[0m\u001b[0;34m)\u001b[0m\u001b[0;34m\u001b[0m\u001b[0;34m\u001b[0m\u001b[0m\n\u001b[0;32m----> 3\u001b[0;31m \u001b[0mUnion\u001b[0m\u001b[0;34m(\u001b[0m\u001b[0;36m2\u001b[0m\u001b[0;34m,\u001b[0m \u001b[0;36m10\u001b[0m\u001b[0;34m)\u001b[0m\u001b[0;34m\u001b[0m\u001b[0;34m\u001b[0m\u001b[0m\n\u001b[0m\u001b[1;32m      4\u001b[0m \u001b[0mUnion\u001b[0m\u001b[0;34m(\u001b[0m\u001b[0;36m7\u001b[0m\u001b[0;34m,\u001b[0m \u001b[0;36m5\u001b[0m\u001b[0;34m)\u001b[0m\u001b[0;34m\u001b[0m\u001b[0;34m\u001b[0m\u001b[0m\n\u001b[1;32m      5\u001b[0m \u001b[0mUnion\u001b[0m\u001b[0;34m(\u001b[0m\u001b[0;36m6\u001b[0m\u001b[0;34m,\u001b[0m \u001b[0;36m1\u001b[0m\u001b[0;34m)\u001b[0m\u001b[0;34m\u001b[0m\u001b[0;34m\u001b[0m\u001b[0m\n",
            "\u001b[0;31mTypeError\u001b[0m: Union() missing 2 required positional arguments: 'x' and 'y'"
          ]
        }
      ]
    },
    {
      "cell_type": "code",
      "source": [],
      "metadata": {
        "id": "u0kZYjYs70pk"
      },
      "execution_count": null,
      "outputs": []
    }
  ]
}