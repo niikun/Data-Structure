{
  "nbformat": 4,
  "nbformat_minor": 0,
  "metadata": {
    "colab": {
      "provenance": [],
      "authorship_tag": "ABX9TyPmyeD6PWXyXgRz0Eg+bSGE",
      "include_colab_link": true
    },
    "kernelspec": {
      "name": "python3",
      "display_name": "Python 3"
    },
    "language_info": {
      "name": "python"
    }
  },
  "cells": [
    {
      "cell_type": "markdown",
      "metadata": {
        "id": "view-in-github",
        "colab_type": "text"
      },
      "source": [
        "<a href=\"https://colab.research.google.com/github/niikun/Data-Structure/blob/main/heapq.ipynb\" target=\"_parent\"><img src=\"https://colab.research.google.com/assets/colab-badge.svg\" alt=\"Open In Colab\"/></a>"
      ]
    },
    {
      "cell_type": "code",
      "execution_count": null,
      "metadata": {
        "id": "OHBKr4ZXqymL"
      },
      "outputs": [],
      "source": [
        "import heapq"
      ]
    },
    {
      "cell_type": "markdown",
      "source": [
        "#Heapq\n",
        "heapq は Python の標準ライブラリで提供されているモジュールで、ヒープ（優先順位キュー）アルゴリズムを実装しています。ヒープは特に効率的な最小値・最大値の取得や削除が可能で、一般的に優先順位キューの実装に使われます。"
      ],
      "metadata": {
        "id": "zvuS3MeSq6VF"
      }
    },
    {
      "cell_type": "code",
      "source": [],
      "metadata": {
        "colab": {
          "base_uri": "https://localhost:8080/",
          "height": 128
        },
        "id": "SaT1QINRrLUD",
        "outputId": "76cdb543-7b44-4f2b-e200-4f18f277e8ca"
      },
      "execution_count": 1,
      "outputs": [
        {
          "output_type": "error",
          "ename": "SyntaxError",
          "evalue": "invalid character '。' (U+3002) (<ipython-input-1-354a9968e105>, line 3)",
          "traceback": [
            "\u001b[0;36m  File \u001b[0;32m\"<ipython-input-1-354a9968e105>\"\u001b[0;36m, line \u001b[0;32m3\u001b[0m\n\u001b[0;31m    親ノードが子ノードよりも常に小さい値を持つ。したがって、ヒープの根にある要素が常に最小値です。\u001b[0m\n\u001b[0m                         ^\u001b[0m\n\u001b[0;31mSyntaxError\u001b[0m\u001b[0;31m:\u001b[0m invalid character '。' (U+3002)\n"
          ]
        }
      ]
    },
    {
      "cell_type": "markdown",
      "source": [
        "## ヒープの特性\n",
        "- 最小ヒープ (Min-Heap):  \n",
        "親ノードが子ノードよりも常に小さい値を持つ。したがって、ヒープの根にある要素が常に最小値です。\n",
        "- 最大ヒープ (Max-Heap):  \n",
        "親ノードが子ノードよりも常に大きい値を持つ。したがって、ヒープの根にある要素が常に最大値です。  \n",
        "\n",
        "Python の heapq モジュールは最小ヒープを提供しますが、最大ヒープを実装するためには要素の値を負にするなどの工夫が必要です。"
      ],
      "metadata": {
        "id": "i3hlp8_QrdhE"
      }
    },
    {
      "cell_type": "markdown",
      "source": [
        "## 基本的な関数"
      ],
      "metadata": {
        "id": "ZrsDrNOZrudc"
      }
    },
    {
      "cell_type": "markdown",
      "source": [
        "### Heapq.heappush(heap,item)\n",
        "- ヒープに要素を追加します。\n",
        "- 時間計算量は O(log n) です。"
      ],
      "metadata": {
        "id": "xtSfEvW1sjKq"
      }
    },
    {
      "cell_type": "code",
      "source": [
        "import heapq\n",
        "\n",
        "heap = []\n",
        "heapq.heappush(heap,3)\n",
        "print(heap)"
      ],
      "metadata": {
        "colab": {
          "base_uri": "https://localhost:8080/"
        },
        "id": "TrQRrmx3sYMr",
        "outputId": "68f8173c-5668-4a34-ff4d-f8a00b09aa01"
      },
      "execution_count": 16,
      "outputs": [
        {
          "output_type": "stream",
          "name": "stdout",
          "text": [
            "[3]\n"
          ]
        }
      ]
    },
    {
      "cell_type": "code",
      "source": [
        "heapq.heappush(heap,1)\n",
        "print(heap)"
      ],
      "metadata": {
        "colab": {
          "base_uri": "https://localhost:8080/"
        },
        "id": "h129B4vwrKrs",
        "outputId": "3b7c93fb-c5bb-4ffb-caad-2e74bdef5a81"
      },
      "execution_count": 17,
      "outputs": [
        {
          "output_type": "stream",
          "name": "stdout",
          "text": [
            "[1, 3]\n"
          ]
        }
      ]
    },
    {
      "cell_type": "code",
      "source": [
        "heapq.heappush(heap,2)\n",
        "print(heap)"
      ],
      "metadata": {
        "colab": {
          "base_uri": "https://localhost:8080/"
        },
        "id": "kAFlqBhPs6ad",
        "outputId": "273222b1-aa3f-49d4-9e54-04f73e8ee4a3"
      },
      "execution_count": 18,
      "outputs": [
        {
          "output_type": "stream",
          "name": "stdout",
          "text": [
            "[1, 3, 2]\n"
          ]
        }
      ]
    },
    {
      "cell_type": "code",
      "source": [
        "heapq.heappush(heap,0)\n",
        "heapq.heappush(heap,5)\n",
        "print(heap)"
      ],
      "metadata": {
        "colab": {
          "base_uri": "https://localhost:8080/"
        },
        "id": "heUOViq7tC1k",
        "outputId": "65c82c59-2650-4f74-cde8-65d4d6473f30"
      },
      "execution_count": 19,
      "outputs": [
        {
          "output_type": "stream",
          "name": "stdout",
          "text": [
            "[0, 1, 2, 3, 5]\n"
          ]
        }
      ]
    },
    {
      "cell_type": "markdown",
      "source": [
        "### Heappop(heap)\n",
        "- ヒープから最小値の要素を削除して返します。\n",
        "- 時間計算量は O(log n) です。"
      ],
      "metadata": {
        "id": "W7sLaz_etXcV"
      }
    },
    {
      "cell_type": "code",
      "source": [
        "heapq.heappop(heap)\n",
        "print(heap)"
      ],
      "metadata": {
        "colab": {
          "base_uri": "https://localhost:8080/"
        },
        "id": "DavPik_UtOIs",
        "outputId": "38bb2290-9c90-463e-d678-838a7ab025fc"
      },
      "execution_count": 20,
      "outputs": [
        {
          "output_type": "stream",
          "name": "stdout",
          "text": [
            "[1, 3, 2, 5]\n"
          ]
        }
      ]
    },
    {
      "cell_type": "markdown",
      "source": [
        "### Heapq.heapify(x)\n",
        "- リストをヒープに変換します。\n",
        "- 時間計算量は O(n) です。\n"
      ],
      "metadata": {
        "id": "UddrWPcGuLxe"
      }
    },
    {
      "cell_type": "code",
      "source": [
        "import random\n",
        "data = [random.randint(1,100) for _ in range(10)]\n",
        "data"
      ],
      "metadata": {
        "colab": {
          "base_uri": "https://localhost:8080/"
        },
        "id": "2mFlLQtWtfnK",
        "outputId": "2ed09726-874d-49db-e64a-ee7d450827a4"
      },
      "execution_count": 21,
      "outputs": [
        {
          "output_type": "execute_result",
          "data": {
            "text/plain": [
              "[55, 21, 19, 64, 20, 25, 4, 85, 69, 35]"
            ]
          },
          "metadata": {},
          "execution_count": 21
        }
      ]
    },
    {
      "cell_type": "code",
      "source": [
        "heapq.heapify(data)\n",
        "print(data)"
      ],
      "metadata": {
        "colab": {
          "base_uri": "https://localhost:8080/"
        },
        "id": "Piq7zFR6t5uk",
        "outputId": "ccc1d8a0-7271-4106-d543-7a379bf2e960"
      },
      "execution_count": 22,
      "outputs": [
        {
          "output_type": "stream",
          "name": "stdout",
          "text": [
            "[4, 20, 19, 64, 21, 25, 55, 85, 69, 35]\n"
          ]
        }
      ]
    },
    {
      "cell_type": "code",
      "source": [],
      "metadata": {
        "id": "FpdrYibrup_a"
      },
      "execution_count": null,
      "outputs": []
    }
  ]
}