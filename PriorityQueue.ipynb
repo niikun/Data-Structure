{
  "nbformat": 4,
  "nbformat_minor": 0,
  "metadata": {
    "colab": {
      "provenance": [],
      "authorship_tag": "ABX9TyM6vbbmdSkHnH9mINs09r83",
      "include_colab_link": true
    },
    "kernelspec": {
      "name": "python3",
      "display_name": "Python 3"
    },
    "language_info": {
      "name": "python"
    }
  },
  "cells": [
    {
      "cell_type": "markdown",
      "metadata": {
        "id": "view-in-github",
        "colab_type": "text"
      },
      "source": [
        "<a href=\"https://colab.research.google.com/github/niikun/Data-Structure/blob/main/PriorityQueue.ipynb\" target=\"_parent\"><img src=\"https://colab.research.google.com/assets/colab-badge.svg\" alt=\"Open In Colab\"/></a>"
      ]
    },
    {
      "cell_type": "markdown",
      "source": [
        "# Priority Queue\n",
        "- insert($p$)  \n",
        "add a new element with priority $p$\n",
        "-ExtractMax()  \n",
        "extracts an element with maximum priority"
      ],
      "metadata": {
        "id": "YRFwjlBvepTP"
      }
    },
    {
      "cell_type": "code",
      "source": [
        "from collections import namedtuple\n",
        "\n",
        "Element = namedtuple(\"Element\",[\"priority\"])\n",
        "\n",
        "elements=[]\n",
        "\n",
        "# Insert(p)\n",
        "def Insert(priority,elements=elements):\n",
        "\n",
        "    element = Element(priority)\n",
        "    return elements.append(element)\n",
        "\n",
        "# ExtractMax()\n",
        "def ExtractMax(elements=elements):\n",
        "\n",
        "    if not elements:\n",
        "        return None\n",
        "\n",
        "    elements.sort(key=lambda x : x.priority,reverse=True)\n",
        "    pop_elements = elements.pop(0)\n",
        "    return pop_elements"
      ],
      "metadata": {
        "id": "5DDIRWoKfayY"
      },
      "execution_count": 25,
      "outputs": []
    },
    {
      "cell_type": "code",
      "source": [
        "%%time\n",
        "Insert(18)\n",
        "Insert(12)\n",
        "Insert(14)\n",
        "print(ExtractMax())\n",
        "print(ExtractMax())\n",
        "Insert(15)\n",
        "print(ExtractMax())\n",
        "Insert(10)\n",
        "print(ExtractMax())\n",
        "print(ExtractMax())\n",
        "print(elements)"
      ],
      "metadata": {
        "colab": {
          "base_uri": "https://localhost:8080/"
        },
        "id": "mrxwjfipj8j_",
        "outputId": "6f436288-104e-4466-b5ff-9406a4b09784"
      },
      "execution_count": 26,
      "outputs": [
        {
          "output_type": "stream",
          "name": "stdout",
          "text": [
            "Element(priority=18)\n",
            "Element(priority=14)\n",
            "Element(priority=15)\n",
            "Element(priority=12)\n",
            "Element(priority=10)\n",
            "[]\n",
            "CPU times: user 3.46 ms, sys: 0 ns, total: 3.46 ms\n",
            "Wall time: 3.82 ms\n"
          ]
        }
      ]
    },
    {
      "cell_type": "markdown",
      "source": [
        "## dequeを使用した実装方法"
      ],
      "metadata": {
        "id": "gjnbryt53cd-"
      }
    },
    {
      "cell_type": "code",
      "source": [
        "from collections import deque\n",
        "\n",
        "# Queueの作成\n",
        "queue = deque()\n",
        "\n",
        "# 要素を挿入する関数\n",
        "def insert(element):\n",
        "    queue.append(element)\n",
        "    print(f\"Enqueued: {element}\")\n",
        "\n",
        "# 要素を取り出す関数\n",
        "def extract_max():\n",
        "    if not queue:\n",
        "        return None\n",
        "\n",
        "    pop_element = max(queue)\n",
        "    queue.remove(pop_element)\n",
        "    print(f\"Dequeued: {pop_element}\")\n",
        "    return pop_element"
      ],
      "metadata": {
        "id": "VRh5k5vvkKjW"
      },
      "execution_count": 27,
      "outputs": []
    },
    {
      "cell_type": "code",
      "source": [
        "%%time\n",
        "Insert(18)\n",
        "Insert(12)\n",
        "Insert(14)\n",
        "print(ExtractMax())\n",
        "print(ExtractMax())\n",
        "Insert(15)\n",
        "print(ExtractMax())\n",
        "Insert(10)\n",
        "print(ExtractMax())\n",
        "print(ExtractMax())\n",
        "print(queue)"
      ],
      "metadata": {
        "colab": {
          "base_uri": "https://localhost:8080/"
        },
        "id": "OiCUU5S540JS",
        "outputId": "6a4b458c-901b-40bf-c79e-1e5be48adee7"
      },
      "execution_count": 28,
      "outputs": [
        {
          "output_type": "stream",
          "name": "stdout",
          "text": [
            "Element(priority=18)\n",
            "Element(priority=14)\n",
            "Element(priority=15)\n",
            "Element(priority=12)\n",
            "Element(priority=10)\n",
            "deque([])\n",
            "CPU times: user 333 µs, sys: 0 ns, total: 333 µs\n",
            "Wall time: 288 µs\n"
          ]
        }
      ]
    },
    {
      "cell_type": "code",
      "source": [
        "print(queue)"
      ],
      "metadata": {
        "colab": {
          "base_uri": "https://localhost:8080/"
        },
        "id": "WO7gVHLb420Q",
        "outputId": "ade50343-d8f7-464e-edfc-6422cd211d50"
      },
      "execution_count": 29,
      "outputs": [
        {
          "output_type": "stream",
          "name": "stdout",
          "text": [
            "deque([])\n"
          ]
        }
      ]
    },
    {
      "cell_type": "code",
      "source": [
        "class Element:\n",
        "    def __init__(self, priority):\n",
        "        self.priority = priority\n",
        "        self.prev = None\n",
        "        self.next = None\n",
        "\n",
        "    def __repr__(self):\n",
        "        return f\"Element({self.priority})\"\n",
        "\n",
        "    def set_prev(self, prev_element):\n",
        "        self.prev = prev_element\n",
        "\n",
        "    def get_prev(self):\n",
        "        return self.prev\n",
        "\n",
        "    def set_next(self, next_element):\n",
        "        self.next = next_element\n",
        "\n",
        "    def get_next(self):\n",
        "        return self.next\n",
        "\n",
        "    def get_priority(self):\n",
        "        return self.priority\n",
        "\n",
        "class Sorted_Queue:\n",
        "    def __init__(self):\n",
        "        self.head = None\n",
        "        self.tail = None\n",
        "\n",
        "    def __repr__(self):\n",
        "        elements = []\n",
        "        current = self.head\n",
        "        while current:\n",
        "            elements.append(current.priority)\n",
        "            current = current.get_next()\n",
        "        return f\"Sorted_Queue({elements})\"\n",
        "\n",
        "    def insert(self, priority):\n",
        "        element = Element(priority)\n",
        "        if not self.head:\n",
        "            self.head = element\n",
        "            self.tail = element\n",
        "        else:\n",
        "            current = self.head\n",
        "            prev = None\n",
        "            while current and current.get_priority() < priority:\n",
        "                prev = current\n",
        "                current = current.get_next()\n",
        "\n",
        "            if prev is None:  # Insert at the beginning\n",
        "                element.set_next(self.head)\n",
        "                self.head.set_prev(element)\n",
        "                self.head = element\n",
        "            elif current is None:  # Insert at the end\n",
        "                prev.set_next(element)\n",
        "                element.set_prev(prev)\n",
        "                self.tail = element\n",
        "            else:  # Insert in the middle\n",
        "                prev.set_next(element)\n",
        "                element.set_prev(prev)\n",
        "                element.set_next(current)\n",
        "                current.set_prev(element)\n",
        "\n",
        "    def extract_max(self):\n",
        "        if not self.tail:\n",
        "            return None\n",
        "        value = self.tail.get_priority()\n",
        "        if self.tail == self.head:  # Only one element\n",
        "            self.head = None\n",
        "            self.tail = None\n",
        "        else:\n",
        "            self.tail = self.tail.get_prev()\n",
        "            self.tail.set_next(None)\n",
        "        return value\n",
        "\n",
        "# テストコード\n",
        "sq = Sorted_Queue()\n",
        "sq.insert(18)\n",
        "sq.insert(12)\n",
        "sq.insert(14)\n",
        "print(sq.extract_max())  # 18\n",
        "print(sq.extract_max())  # 14\n",
        "sq.insert(15)\n",
        "print(sq.extract_max())  # 15\n",
        "sq.insert(10)\n",
        "print(sq.extract_max())  # 12\n",
        "print(sq.extract_max())  # 10\n",
        "print(sq)  # Sorted_Queue([])\n",
        "\n"
      ],
      "metadata": {
        "colab": {
          "base_uri": "https://localhost:8080/"
        },
        "id": "eZdCCB8J5EyX",
        "outputId": "0fb3fa72-2add-4c6f-8342-c7ffdcee9c99"
      },
      "execution_count": 46,
      "outputs": [
        {
          "output_type": "stream",
          "name": "stdout",
          "text": [
            "18\n",
            "14\n",
            "15\n",
            "12\n",
            "10\n",
            "Sorted_Queue([])\n"
          ]
        }
      ]
    },
    {
      "cell_type": "code",
      "source": [
        "sq = Sorted_Queue()"
      ],
      "metadata": {
        "id": "RfRJwG21Aabl"
      },
      "execution_count": 40,
      "outputs": []
    },
    {
      "cell_type": "code",
      "source": [
        "%%time\n",
        "sq = Sorted_Queue()\n",
        "sq.insert(18)\n",
        "sq.insert(12)\n",
        "sq.insert(14)\n",
        "print(sq.extract_max())  # 18\n",
        "print(sq.extract_max())  # 14\n",
        "sq.insert(15)\n",
        "print(sq.extract_max())  # 15\n",
        "sq.insert(10)\n",
        "print(sq.extract_max())  # 12\n",
        "print(sq.extract_max())  # 10\n",
        "print(sq)  # Sorted_Queue([])"
      ],
      "metadata": {
        "colab": {
          "base_uri": "https://localhost:8080/"
        },
        "id": "irjam_yrAS4c",
        "outputId": "f7ba09bb-de37-4daa-a4f2-8fb6768d560a"
      },
      "execution_count": 43,
      "outputs": [
        {
          "output_type": "stream",
          "name": "stdout",
          "text": [
            "18\n",
            "14\n",
            "15\n",
            "14\n",
            "14\n",
            "Sorted_Queue([10, 12, 14])\n",
            "CPU times: user 1.71 ms, sys: 0 ns, total: 1.71 ms\n",
            "Wall time: 1.73 ms\n"
          ]
        }
      ]
    },
    {
      "cell_type": "code",
      "source": [
        "from collections import namedtuple, deque\n",
        "\n",
        "Element = namedtuple('Element', ['priority'])\n",
        "\n",
        "class PriorityQueue:\n",
        "    def __init__(self):\n",
        "        self.elements = deque()\n",
        "\n",
        "    def __repr__(self):\n",
        "        return f\"PriorityQueue({list(self.elements)})\"\n",
        "\n",
        "    def insert(self, priority):\n",
        "        element = Element(priority)\n",
        "        if not self.elements:\n",
        "            self.elements.append(element)\n",
        "        else:\n",
        "            inserted = False\n",
        "            for i in range(len(self.elements)):\n",
        "                if self.elements[i].priority < priority:\n",
        "                    self.elements.insert(i, element)\n",
        "                    inserted = True\n",
        "                    break\n",
        "            if not inserted:\n",
        "                self.elements.append(element)\n",
        "\n",
        "    def extract_max(self):\n",
        "        if not self.elements:\n",
        "            return None\n",
        "        return self.elements.popleft()\n",
        "\n",
        "# テストコード\n",
        "pq = PriorityQueue()\n",
        "pq.insert(18)\n",
        "pq.insert(12)\n",
        "pq.insert(14)\n",
        "print(pq.extract_max())  # Element(priority=18)\n",
        "print(pq.extract_max())  # Element(priority=14)\n",
        "pq.insert(15)\n",
        "print(pq.extract_max())  # Element(priority=15)\n",
        "pq.insert(10)\n",
        "print(pq.extract_max())  # Element(priority=12)\n",
        "print(pq.extract_max())  # Element(priority=10)\n",
        "print(pq)  # PriorityQueue([])\n"
      ],
      "metadata": {
        "colab": {
          "base_uri": "https://localhost:8080/"
        },
        "id": "DeU8Pc0AA-Yz",
        "outputId": "822fc5d7-c5b9-43af-8763-793c284ace8a"
      },
      "execution_count": 47,
      "outputs": [
        {
          "output_type": "stream",
          "name": "stdout",
          "text": [
            "Element(priority=18)\n",
            "Element(priority=14)\n",
            "Element(priority=15)\n",
            "Element(priority=12)\n",
            "Element(priority=10)\n",
            "PriorityQueue([])\n"
          ]
        }
      ]
    },
    {
      "cell_type": "code",
      "source": [],
      "metadata": {
        "id": "40H2kYCyGCtd"
      },
      "execution_count": null,
      "outputs": []
    }
  ]
}