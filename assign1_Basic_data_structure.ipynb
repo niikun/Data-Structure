{
  "nbformat": 4,
  "nbformat_minor": 0,
  "metadata": {
    "colab": {
      "provenance": [],
      "authorship_tag": "ABX9TyPzOj/19KvPen40kJKa5CYy",
      "include_colab_link": true
    },
    "kernelspec": {
      "name": "python3",
      "display_name": "Python 3"
    },
    "language_info": {
      "name": "python"
    }
  },
  "cells": [
    {
      "cell_type": "markdown",
      "metadata": {
        "id": "view-in-github",
        "colab_type": "text"
      },
      "source": [
        "<a href=\"https://colab.research.google.com/github/niikun/Data-Structure/blob/main/assign1_Basic_data_structure.ipynb\" target=\"_parent\"><img src=\"https://colab.research.google.com/assets/colab-badge.svg\" alt=\"Open In Colab\"/></a>"
      ]
    },
    {
      "cell_type": "markdown",
      "source": [
        "## Check brackets in the code"
      ],
      "metadata": {
        "id": "StT6nmfrKp_F"
      }
    },
    {
      "cell_type": "markdown",
      "source": [
        "## Do it myself"
      ],
      "metadata": {
        "id": "9J_IYf4oHYZ-"
      }
    },
    {
      "cell_type": "code",
      "source": [
        "class Node:\n",
        "    def __init__(self,data,next=None):\n",
        "        self.data = data\n",
        "        self.next = next\n",
        "\n",
        "    def __repr__(self):\n",
        "        return f\"Node({self.data})\"\n",
        "\n",
        "    def set_next(self,next_node):\n",
        "        self.next = next_node\n",
        "\n",
        "    def get_next(self):\n",
        "        return self.next\n",
        "\n",
        "    def get_data(self):\n",
        "        return self.data\n",
        "\n",
        "class Stack:\n",
        "    def __init__(self):\n",
        "        self.head = None\n",
        "\n",
        "    def __repr__(self):\n",
        "        nodes = []\n",
        "        current = self.head\n",
        "        while current is not None:\n",
        "            nodes.append(repr(current))\n",
        "            current = current.get_next()\n",
        "        return f\"Stack({', '.join(nodes)})\"\n",
        "\n",
        "    def set_head(self, data):\n",
        "        new_node = Node(data)\n",
        "        self.head = new_node\n",
        "\n",
        "    def get_head(self):\n",
        "        return self.head\n",
        "\n",
        "    def push_back(self, data):\n",
        "        new_node = Node(data)\n",
        "        if self.head is None:\n",
        "            self.head = new_node\n",
        "            return\n",
        "\n",
        "        current = self.head\n",
        "        while current.get_next() is not None:\n",
        "            current = current.get_next()\n",
        "        current.set_next(new_node)\n",
        "\n",
        "    def pop_back(self):\n",
        "        if self.head is None:\n",
        "            return None,None\n",
        "\n",
        "        if self.head.get_next() is None:\n",
        "            data = self.head.get_data()\n",
        "            self.head = None\n",
        "            return data,0\n",
        "\n",
        "        current = self.head\n",
        "        count = 0\n",
        "        while current.get_next().get_next() is not None:\n",
        "            current = current.get_next()\n",
        "            count += 1\n",
        "\n",
        "        data = current.get_next().get_data()\n",
        "        current.set_next(None)\n",
        "        return data, count\n",
        "    def empty(self):\n",
        "        return self.head is None\n",
        "\n",
        "def is_balanced(input):\n",
        "    stack = Stack()\n",
        "    for i,char in enumerate(input):\n",
        "\n",
        "        if char in [\"(\",\"[\",\"{\"]:\n",
        "            stack.push_back(char)\n",
        "\n",
        "        elif  char in [\")\", \"]\", \"}\"]:\n",
        "            if stack.empty():\n",
        "                return i+1\n",
        "\n",
        "            last,_ = stack.pop_back()\n",
        "            if char == \")\" and last != \"(\":\n",
        "                return i+1\n",
        "            elif char == \"]\" and last != \"[\":\n",
        "                return i+1\n",
        "            elif char == \"}\" and last != \"{\":\n",
        "                return i+1\n",
        "            else:\n",
        "                continue\n",
        "\n",
        "    if stack.empty():\n",
        "        return True\n",
        "\n",
        "    else:\n",
        "        _,n = stack.pop_back()\n",
        "        return n + 1\n",
        "\n"
      ],
      "metadata": {
        "id": "82FbFRRrY3pH"
      },
      "execution_count": 24,
      "outputs": []
    },
    {
      "cell_type": "code",
      "source": [
        "input1 = []"
      ],
      "metadata": {
        "id": "8MwN62OpPClU"
      },
      "execution_count": 25,
      "outputs": []
    },
    {
      "cell_type": "code",
      "source": [
        "is_balanced(input1)"
      ],
      "metadata": {
        "id": "anYw2KiDVyIs",
        "colab": {
          "base_uri": "https://localhost:8080/"
        },
        "outputId": "865d377b-28f7-47e5-c410-3d2798a91d0f"
      },
      "execution_count": 30,
      "outputs": [
        {
          "output_type": "execute_result",
          "data": {
            "text/plain": [
              "True"
            ]
          },
          "metadata": {},
          "execution_count": 30
        }
      ]
    },
    {
      "cell_type": "code",
      "source": [
        "input4 = \"(())\"\n",
        "is_balanced(input4)"
      ],
      "metadata": {
        "colab": {
          "base_uri": "https://localhost:8080/"
        },
        "id": "6sIqKQu4bjoK",
        "outputId": "e6edec3a-1795-4402-d7de-57c5509b442a"
      },
      "execution_count": 31,
      "outputs": [
        {
          "output_type": "execute_result",
          "data": {
            "text/plain": [
              "True"
            ]
          },
          "metadata": {},
          "execution_count": 31
        }
      ]
    },
    {
      "cell_type": "code",
      "source": [
        "input5 = \"{[]}()\"\n",
        "is_balanced(input5)"
      ],
      "metadata": {
        "colab": {
          "base_uri": "https://localhost:8080/"
        },
        "id": "b9iwMhZFcJ-h",
        "outputId": "2ea2dd67-8330-4202-c320-3ccc3c2a9d34"
      },
      "execution_count": 32,
      "outputs": [
        {
          "output_type": "execute_result",
          "data": {
            "text/plain": [
              "True"
            ]
          },
          "metadata": {},
          "execution_count": 32
        }
      ]
    },
    {
      "cell_type": "code",
      "source": [
        "input6 = \"{\"\n",
        "is_balanced(input6)"
      ],
      "metadata": {
        "colab": {
          "base_uri": "https://localhost:8080/"
        },
        "id": "J0nDIT1gjhLr",
        "outputId": "6674283a-a3b1-4efc-bbdf-ad32079565b7"
      },
      "execution_count": 33,
      "outputs": [
        {
          "output_type": "execute_result",
          "data": {
            "text/plain": [
              "1"
            ]
          },
          "metadata": {},
          "execution_count": 33
        }
      ]
    },
    {
      "cell_type": "code",
      "source": [
        "input8= \"foo(bar)\"\n",
        "is_balanced(input8)"
      ],
      "metadata": {
        "colab": {
          "base_uri": "https://localhost:8080/"
        },
        "id": "K5X2tBuQo5TB",
        "outputId": "8b62a73d-6b66-46bd-edad-54e164c18479"
      },
      "execution_count": 34,
      "outputs": [
        {
          "output_type": "execute_result",
          "data": {
            "text/plain": [
              "True"
            ]
          },
          "metadata": {},
          "execution_count": 34
        }
      ]
    },
    {
      "cell_type": "code",
      "source": [
        "input9= \"foo(bar[i)\"\n",
        "is_balanced(input9)"
      ],
      "metadata": {
        "colab": {
          "base_uri": "https://localhost:8080/"
        },
        "id": "ZVlhWDzBjpsk",
        "outputId": "6f953491-fba1-4ec1-e8c7-9038829c06a1"
      },
      "execution_count": 35,
      "outputs": [
        {
          "output_type": "execute_result",
          "data": {
            "text/plain": [
              "10"
            ]
          },
          "metadata": {},
          "execution_count": 35
        }
      ]
    },
    {
      "cell_type": "markdown",
      "source": [
        "### Answer"
      ],
      "metadata": {
        "id": "AOfmWsJOG-kF"
      }
    },
    {
      "cell_type": "code",
      "source": [
        "# python3\n",
        "\n",
        "from collections import namedtuple\n",
        "\n",
        "Bracket = namedtuple(\"Bracket\", [\"char\", \"position\"])\n",
        "\n",
        "\n",
        "def are_matching(left, right):\n",
        "    return (left + right) in [\"()\", \"[]\", \"{}\"]\n",
        "\n",
        "def find_mismatch(text):\n",
        "    opening_brackets_stack = []\n",
        "    for i, next in enumerate(text):\n",
        "        if next in \"([{\":\n",
        "            new_bracket = Bracket(next,i)\n",
        "            opening_brackets_stack.append(new_bracket)\n",
        "\n",
        "        if next in \")]}\":\n",
        "            if len(opening_brackets_stack) == 0:\n",
        "                return i+1\n",
        "            last_bracket = opening_brackets_stack.pop()\n",
        "            if not are_matching(last_bracket.char,next):\n",
        "                return i+1\n",
        "    if len(opening_brackets_stack) > 0:\n",
        "        return opening_brackets_stack[0].position + 1\n",
        "    else:\n",
        "        return \"Success\"\n",
        "\n",
        "def main():\n",
        "    text = input()\n",
        "    mismatch = find_mismatch(text)\n",
        "    # Printing answer, write your code here\n",
        "    print(mismatch)\n",
        "\n",
        "if __name__ == \"__main__\":\n",
        "    main()"
      ],
      "metadata": {
        "id": "BKbK_f2Got9A"
      },
      "execution_count": null,
      "outputs": []
    },
    {
      "cell_type": "markdown",
      "source": [
        "### namedtuple = Nodeの代わりに使用\n",
        "- dictionaryのようにキーバリュー的に値を格納できる\n",
        "- ドットアクセスできる。あの面倒なdic[\"key\"]を書かないでいい！！\n",
        "- 基本的にtupleである。なのでイミュータブルである\n",
        "- tupleなので軽量だったり早かったりするのではないか？"
      ],
      "metadata": {
        "id": "TO7TEc2t-VWf"
      }
    },
    {
      "cell_type": "code",
      "source": [
        "from collections import namedtuple\n",
        "\n",
        "Bracket = namedtuple(\"Bracket\", [\"char\", \"position\"])\n",
        "my_bracket = Bracket(\"(\",1)\n",
        "my_bracket.char,my_bracket.position"
      ],
      "metadata": {
        "colab": {
          "base_uri": "https://localhost:8080/"
        },
        "id": "gUT7Q9FNsQGm",
        "outputId": "c6d9ed64-5df3-4435-8abd-196409c3e859"
      },
      "execution_count": 36,
      "outputs": [
        {
          "output_type": "execute_result",
          "data": {
            "text/plain": [
              "('(', 1)"
            ]
          },
          "metadata": {},
          "execution_count": 36
        }
      ]
    },
    {
      "cell_type": "markdown",
      "source": [
        "### 左右のカッコが合致するかを確認する"
      ],
      "metadata": {
        "id": "dKViqGPpIITO"
      }
    },
    {
      "cell_type": "code",
      "source": [
        "def are_matching(left, right):\n",
        "    return (left + right) in [\"()\", \"[]\", \"{}\"]"
      ],
      "metadata": {
        "id": "HlvjBeng9KBh"
      },
      "execution_count": 37,
      "outputs": []
    },
    {
      "cell_type": "markdown",
      "source": [
        "このコードは、2つの文字（left と right）が一致する括弧ペアであるかどうかを確認するための関数です。\n",
        "\n",
        "関数の説明は以下の通りです：\n",
        "\n",
        "1. 関数名は are_matching で、引数として left と right という2つの文字を取ります。\n",
        "2. 関数は、 left と right を結合し、生成された文字列が [\"()\", \"[]\", \"{}\"] のいずれかに含まれているかどうかを確認します。\n",
        "3. 含まれていれば、関数は True を返し、含まれていなければ False を返します。  \n",
        "\n",
        "つまり、この関数は left と right が以下のいずれかのペアである場合に True を返します：\n",
        "\n",
        "- left が ( で right が ) の場合\n",
        "- left が [ で right が ] の場合\n",
        "- left が { で right が } の場合"
      ],
      "metadata": {
        "id": "KndwX3u6AkWK"
      }
    },
    {
      "cell_type": "code",
      "source": [
        "right = \"{(\"\n",
        "left = \")]\"\n",
        "(right+left) in [\"()\", \"[]\", \"{}\"]"
      ],
      "metadata": {
        "colab": {
          "base_uri": "https://localhost:8080/"
        },
        "id": "ElyIh9Zo-86k",
        "outputId": "9fa87cd3-468b-4c2b-e35e-ee2e0c1d006c"
      },
      "execution_count": 16,
      "outputs": [
        {
          "output_type": "execute_result",
          "data": {
            "text/plain": [
              "False"
            ]
          },
          "metadata": {},
          "execution_count": 16
        }
      ]
    },
    {
      "cell_type": "code",
      "source": [
        "def find_mismatch(text):\n",
        "    opening_brackets_stack = []\n",
        "    for i, next in enumerate(text):\n",
        "        if next in \"([{\":\n",
        "            new_bracket = Bracket(next,i)\n",
        "            opening_brackets_stack.append(new_bracket)\n",
        "\n",
        "        if next in \")]}\":\n",
        "            if len(opening_brackets_stack) == 0:\n",
        "                return i+1\n",
        "            last_bracket = opening_brackets_stack.pop()\n",
        "            if not are_matching(last_bracket.char,next):\n",
        "                return i+1\n",
        "\n",
        "    if len(opening_brackets_stack) > 0:\n",
        "        return opening_brackets_stack[0].position\n",
        "    else:\n",
        "        return True"
      ],
      "metadata": {
        "id": "cPMQPylH_KId"
      },
      "execution_count": 18,
      "outputs": []
    },
    {
      "cell_type": "code",
      "source": [
        "input5 = \"{[]}()\"\n",
        "find_mismatch(input5)"
      ],
      "metadata": {
        "colab": {
          "base_uri": "https://localhost:8080/"
        },
        "id": "FQxvJwPHDUd1",
        "outputId": "f0eeb2cb-b5d6-4f94-c244-e2a8ef20f2b4"
      },
      "execution_count": 19,
      "outputs": [
        {
          "output_type": "execute_result",
          "data": {
            "text/plain": [
              "True"
            ]
          },
          "metadata": {},
          "execution_count": 19
        }
      ]
    },
    {
      "cell_type": "code",
      "source": [
        "input4 = \"(())\"\n",
        "find_mismatch(input4)"
      ],
      "metadata": {
        "colab": {
          "base_uri": "https://localhost:8080/"
        },
        "id": "UYuKtTASDp5T",
        "outputId": "c47f5e4d-fef5-4a3d-a02f-86ea5ea29236"
      },
      "execution_count": 20,
      "outputs": [
        {
          "output_type": "execute_result",
          "data": {
            "text/plain": [
              "True"
            ]
          },
          "metadata": {},
          "execution_count": 20
        }
      ]
    },
    {
      "cell_type": "code",
      "source": [
        "input9= \"foo(bar[i)\"\n",
        "find_mismatch(input9)"
      ],
      "metadata": {
        "colab": {
          "base_uri": "https://localhost:8080/"
        },
        "id": "IgDh3dbVDyAg",
        "outputId": "4892220f-d1fc-4d7d-a3f3-69067c746127"
      },
      "execution_count": 21,
      "outputs": [
        {
          "output_type": "execute_result",
          "data": {
            "text/plain": [
              "10"
            ]
          },
          "metadata": {},
          "execution_count": 21
        }
      ]
    },
    {
      "cell_type": "code",
      "source": [
        "input8= \"foo(bar)\"\n",
        "find_mismatch(input8)"
      ],
      "metadata": {
        "colab": {
          "base_uri": "https://localhost:8080/"
        },
        "id": "ry-4Hw6ID09d",
        "outputId": "97e0cf78-37e9-4efe-cba3-4d4e1bdefbb4"
      },
      "execution_count": 22,
      "outputs": [
        {
          "output_type": "execute_result",
          "data": {
            "text/plain": [
              "True"
            ]
          },
          "metadata": {},
          "execution_count": 22
        }
      ]
    },
    {
      "cell_type": "code",
      "source": [
        "def main():\n",
        "    text = input()\n",
        "    mismatch = find_mismatch(text)\n",
        "\n",
        "    return mismatch"
      ],
      "metadata": {
        "id": "wyYCupPBCc8p"
      },
      "execution_count": null,
      "outputs": []
    }
  ]
}